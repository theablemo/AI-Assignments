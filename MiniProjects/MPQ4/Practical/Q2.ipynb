{
  "cells": [
    {
      "cell_type": "markdown",
      "metadata": {
        "id": "d98O4vjubJ3j"
      },
      "source": [
        "<div align=center>\n",
        "\t\t\n",
        "<p></p>\n",
        "<p></p>\n",
        "<font size=5>\n",
        "In the Name of God\n",
        "<font/>\n",
        "<p></p>\n",
        " <br/>\n",
        "    <br/>\n",
        "    <br/>\n",
        "<font color=#FF7500>\n",
        "Sharif University of Technology - Departmenet of Computer Engineering\n",
        "</font>\n",
        "<p></p>\n",
        "<font color=blue>\n",
        "Artifical Intelligence - Dr. Mohammad Hossein Rohban\n",
        "</font>\n",
        "<br/>\n",
        "<br/>\n",
        "Fall 2021\n",
        "\n",
        "</div>\n",
        "\n",
        "<hr/>\n",
        "\t\t<div align=center>\n",
        "\t\t    <font color=red size=6>\n",
        "\t\t\t    <br />\n",
        "Practical Assignment 4 Pytorch Classification\n",
        "            \t<br/>\n",
        "\t\t\t</font>\n",
        "    <br/>\n",
        "    <br/>\n",
        "<font size=4>\n",
        "                <br/><b>\n",
        "              Cheating is Strongly Prohibited\n",
        "                </b><br/><br/>\n",
        "                <font color=red>\n",
        "Please run all the cells.\n",
        "     </font>\n",
        "</font>\n",
        "                <br/>\n",
        "    </div>"
      ]
    },
    {
      "cell_type": "markdown",
      "metadata": {
        "id": "Vc56RQq_bJ3p"
      },
      "source": [
        "# Personal Data"
      ]
    },
    {
      "cell_type": "code",
      "execution_count": 2,
      "metadata": {
        "id": "tODT3Ai9bJ3q"
      },
      "outputs": [],
      "source": [
        "# Set your student number\n",
        "student_number = 98103867\n",
        "Name = 'Mohammad'\n",
        "Last_Name = 'Abolnejadian'"
      ]
    },
    {
      "cell_type": "markdown",
      "metadata": {
        "id": "j36cYwxIbJ3r"
      },
      "source": [
        "# Rules\n",
        "- You **are** allowed to add or remove cells. \n",
        "- By running the cell below, you can see if your jupyter file is accepted or not. This cell will also **generate a python file which you'll have to upload to Quera** (as well as your jupyter file). The python file will later be validated and if the code in both files doesn't match, **your Practical Assignment won't be graded**."
      ]
    },
    {
      "cell_type": "code",
      "execution_count": 3,
      "metadata": {
        "id": "MxF-SCt7bJ3s",
        "outputId": "fd7f98b5-2198-4390-c8a4-c1ad93a347ac"
      },
      "outputs": [
        {
          "name": "stdout",
          "output_type": "stream",
          "text": [
            "your file will be graded\n"
          ]
        }
      ],
      "source": [
        "# remember to save your jupyter file before running this script\n",
        "from Helper_codes.validator import *\n",
        "\n",
        "python_code = extract_python(\"./Q2.ipynb\")\n",
        "with open(f'python_code_Q2_{student_number}.py', 'w') as file:\n",
        "    file.write(python_code)"
      ]
    },
    {
      "cell_type": "markdown",
      "metadata": {
        "id": "Fa1McbDhbJ3s"
      },
      "source": [
        "# PyTorch & MNIST Classification (50 points+5 Extra)"
      ]
    },
    {
      "cell_type": "markdown",
      "metadata": {
        "id": "sSeuI5X2bJ3t"
      },
      "source": [
        "<font size=4>\n",
        "Author: Arman Zarei\n",
        "\t\t\t<br/>\n",
        "                <font color=red>\n",
        "Please run all the cells.\n",
        "     </font>\n",
        "</font>\n",
        "                <br/>\n",
        "    </div>"
      ]
    },
    {
      "cell_type": "markdown",
      "metadata": {
        "id": "hpgcA5aVbhvr"
      },
      "source": [
        "In this assignment, you are going to learn the fundamentals of PyTorch and implement a classifier network for MNIST dataset. You can read about more details of PyTorch components from [this link](https://pytorch.org/tutorials)."
      ]
    },
    {
      "cell_type": "markdown",
      "metadata": {
        "id": "eWerEtmwcjDW"
      },
      "source": [
        "### Setup"
      ]
    },
    {
      "cell_type": "code",
      "execution_count": 2,
      "metadata": {
        "id": "WB1qWR7ycyhk"
      },
      "outputs": [],
      "source": [
        "import torch\n",
        "from torchvision import datasets\n",
        "import matplotlib.pyplot as plt\n",
        "import torchvision.transforms as transforms\n",
        "import os\n",
        "from torch.utils.data import Dataset, DataLoader, random_split\n",
        "import torch.nn as nn\n",
        "import torch.nn.functional as F\n",
        "import random\n",
        "import numpy as np\n",
        "import tqdm\n",
        "from ae_helper import init_mnist_subset_directories"
      ]
    },
    {
      "cell_type": "code",
      "execution_count": 3,
      "metadata": {
        "colab": {
          "base_uri": "https://localhost:8080/"
        },
        "id": "Xl50MioBdFpk",
        "outputId": "d8bfc941-37a9-40bf-ce4b-b9bab4f273eb"
      },
      "outputs": [
        {
          "data": {
            "text/plain": [
              "device(type='cpu')"
            ]
          },
          "execution_count": 3,
          "metadata": {},
          "output_type": "execute_result"
        }
      ],
      "source": [
        "device = torch.device('cuda' if torch.cuda.is_available() else 'cpu')\n",
        "device"
      ]
    },
    {
      "cell_type": "markdown",
      "metadata": {
        "id": "wx59hwkqj0RD"
      },
      "source": [
        "#### Loading dataset"
      ]
    },
    {
      "cell_type": "code",
      "execution_count": 4,
      "metadata": {
        "colab": {
          "base_uri": "https://localhost:8080/",
          "height": 423,
          "referenced_widgets": [
            "c25f0aec954247deb5c75930480c69f9",
            "e66daabd77f742b997ab61e998191a76",
            "7cd3f05e353a4418a372b6e288e0c701",
            "8272456f69404194ab27b54873e2653f",
            "291d4dc1a0cb447fad575eb583936bc8",
            "143df3c7a68442af96d350a313d9b129",
            "2699f081f6ef4bf3ac213aa971c585f6",
            "c1e4470b71f1489da34e0dd358e8fb51",
            "7a995fcbf0704aea94d281ce1b5d0c3e",
            "eb75157fa9e145c7a44aa8e3227a3f5b",
            "db2925eded7d405bae93bc1d1890d687",
            "a0ac27617974453185e0ad1648d30758",
            "031aa4a43f044b70b5cffd614bedc942",
            "50b0bf4a172141139c2da1cfa37f6908",
            "7db27a9183be41eaaee20016fc82c38d",
            "9a2c80cf5f2e4077976281fc9a91e052",
            "363ebdba3d2748df86309337fabd9a84",
            "69bff8e7e8814b02afc948821d2855c7",
            "f2d14c93737d49809c0e993ee0d843c5",
            "d3bd6ac0e2da43d385aa7b6a389395cc",
            "758a7415edd94c779f48584209d2c5bd",
            "be87508cc63e4c549bd3adacdd197312",
            "b4d2935365594d49b9db4535caec972d",
            "7de02a55c66a463f9ed304631419a3c0",
            "a3949671a1804c9c960721345e18e63a",
            "2e04e7539b1749fbbfc657c9b1fba6bd",
            "f2bb1433856649fcb7d0ccca12fcb56f",
            "f2810e1c5db04364b8125bd54cdfc676",
            "bf72993208e744ca8647e381de5d9754",
            "64b40ac6632346d6813abcc8dbf96e88",
            "5576777bd04e46538e34d6f141e9363f",
            "aafc4b01114348ab9870fcfb5e1c219b",
            "988cdf5a93244b8da193289c0e54d43d",
            "efa12fe4ab6b409fb51601795e4e2ed3",
            "a76353482884494ea75f281c012f1dae",
            "a822d0fcd41e4c419b3fc9e715045a1c",
            "94639018d3e74b3ba0304715ad5f5bd8",
            "a39636f96cad44fea2518d77ea9d2491",
            "544e405582e84bc3a3dcbbda672fe02c",
            "ef454b3fa0584ccaafe337f697bb2ab9",
            "fd4defde78e640988f7d999375a7ac5c",
            "427471c795c14c8cb906af0cb76999ec",
            "9e3f9eea8290489a8ddebade151da15a",
            "8dd09797a72c4e54bcbc252e27ea7030"
          ]
        },
        "id": "YDdS3sikj1xB",
        "outputId": "a9240381-7401-45a0-f7d6-88f8ce8509b3"
      },
      "outputs": [
        {
          "name": "stdout",
          "output_type": "stream",
          "text": [
            "Downloading http://yann.lecun.com/exdb/mnist/train-images-idx3-ubyte.gz\n",
            "Downloading http://yann.lecun.com/exdb/mnist/train-images-idx3-ubyte.gz to data/MNIST/raw/train-images-idx3-ubyte.gz\n"
          ]
        },
        {
          "data": {
            "application/vnd.jupyter.widget-view+json": {
              "model_id": "c25f0aec954247deb5c75930480c69f9",
              "version_major": 2,
              "version_minor": 0
            },
            "text/plain": [
              "  0%|          | 0/9912422 [00:00<?, ?it/s]"
            ]
          },
          "metadata": {},
          "output_type": "display_data"
        },
        {
          "name": "stdout",
          "output_type": "stream",
          "text": [
            "Extracting data/MNIST/raw/train-images-idx3-ubyte.gz to data/MNIST/raw\n",
            "\n",
            "Downloading http://yann.lecun.com/exdb/mnist/train-labels-idx1-ubyte.gz\n",
            "Downloading http://yann.lecun.com/exdb/mnist/train-labels-idx1-ubyte.gz to data/MNIST/raw/train-labels-idx1-ubyte.gz\n"
          ]
        },
        {
          "data": {
            "application/vnd.jupyter.widget-view+json": {
              "model_id": "a0ac27617974453185e0ad1648d30758",
              "version_major": 2,
              "version_minor": 0
            },
            "text/plain": [
              "  0%|          | 0/28881 [00:00<?, ?it/s]"
            ]
          },
          "metadata": {},
          "output_type": "display_data"
        },
        {
          "name": "stdout",
          "output_type": "stream",
          "text": [
            "Extracting data/MNIST/raw/train-labels-idx1-ubyte.gz to data/MNIST/raw\n",
            "\n",
            "Downloading http://yann.lecun.com/exdb/mnist/t10k-images-idx3-ubyte.gz\n",
            "Downloading http://yann.lecun.com/exdb/mnist/t10k-images-idx3-ubyte.gz to data/MNIST/raw/t10k-images-idx3-ubyte.gz\n"
          ]
        },
        {
          "data": {
            "application/vnd.jupyter.widget-view+json": {
              "model_id": "b4d2935365594d49b9db4535caec972d",
              "version_major": 2,
              "version_minor": 0
            },
            "text/plain": [
              "  0%|          | 0/1648877 [00:00<?, ?it/s]"
            ]
          },
          "metadata": {},
          "output_type": "display_data"
        },
        {
          "name": "stdout",
          "output_type": "stream",
          "text": [
            "Extracting data/MNIST/raw/t10k-images-idx3-ubyte.gz to data/MNIST/raw\n",
            "\n",
            "Downloading http://yann.lecun.com/exdb/mnist/t10k-labels-idx1-ubyte.gz\n",
            "Downloading http://yann.lecun.com/exdb/mnist/t10k-labels-idx1-ubyte.gz to data/MNIST/raw/t10k-labels-idx1-ubyte.gz\n"
          ]
        },
        {
          "data": {
            "application/vnd.jupyter.widget-view+json": {
              "model_id": "efa12fe4ab6b409fb51601795e4e2ed3",
              "version_major": 2,
              "version_minor": 0
            },
            "text/plain": [
              "  0%|          | 0/4542 [00:00<?, ?it/s]"
            ]
          },
          "metadata": {},
          "output_type": "display_data"
        },
        {
          "name": "stdout",
          "output_type": "stream",
          "text": [
            "Extracting data/MNIST/raw/t10k-labels-idx1-ubyte.gz to data/MNIST/raw\n",
            "\n"
          ]
        }
      ],
      "source": [
        "mnist_dataset = datasets.MNIST(root='data', train=True, download=True, transform=transforms.ToTensor())"
      ]
    },
    {
      "cell_type": "markdown",
      "metadata": {
        "id": "USPO44OldQSB"
      },
      "source": [
        "## Autograd"
      ]
    },
    {
      "cell_type": "markdown",
      "metadata": {
        "id": "UZ3MTvqldpmz"
      },
      "source": [
        "Autograd is PyTorch's automatic differentiation engine that powers neural network training. In essence it helps us to calculate derivatives and updating parameters. To read more about Autograd and Computational Graph visit [this link](https://pytorch.org/tutorials/beginner/blitz/autograd_tutorial.html)\n",
        "\n",
        "Let us define two parameters: $p_1$ and $p_2$. "
      ]
    },
    {
      "cell_type": "code",
      "execution_count": 5,
      "metadata": {
        "id": "fyMHSBA7eg1P"
      },
      "outputs": [],
      "source": [
        "p1 = torch.tensor([3.], requires_grad=True)\n",
        "p2 = torch.tensor([7.], requires_grad=True)"
      ]
    },
    {
      "cell_type": "markdown",
      "metadata": {
        "id": "3clMbGmyesLk"
      },
      "source": [
        "Now define a variable $L$ as below:\n",
        "\n",
        "$L = 3 \\times p_1^3 - 7 \\times p_2^2 + sin(p1) \\times p_2^2$"
      ]
    },
    {
      "cell_type": "code",
      "execution_count": 6,
      "metadata": {
        "id": "Q6Rf3tc5bJ3u"
      },
      "outputs": [],
      "source": [
        "# Place your code here (2.5 Points)\n",
        "## Hint: You can use torch.sin for calculation of sin(p1)\n",
        "L = 3 * p1**3 - 7*p2**2 + torch.sin(p1)*p2**2"
      ]
    },
    {
      "cell_type": "markdown",
      "metadata": {
        "id": "yVEaM66zfI_r"
      },
      "source": [
        "Now you have to calculate the gradient of $p_1$ and $p_2$ with respect to $L$. First do it by hand and write the mathematical expression in the below cell both for $p_1$ and $p_2$. Then evaluate them at $3$ and $7$ (acording to the initialization)"
      ]
    },
    {
      "cell_type": "markdown",
      "metadata": {
        "id": "6AK61RzngBya"
      },
      "source": [
        "Place your expressions here **(2.5 Points)**\n",
        "\n",
        "\n",
        "$\\frac{dL}{dp_1} = 9\\times p_1^2 + cos(p_1) \\times p_2^2$ \n",
        "\n",
        "$\\frac{dL}{dp_2} = -14 \\times p_2 + 2 \\times p_2 \\times sin(p_1)$\n",
        "\n",
        "$\\frac{dL}{dp_1}(3, 7) = 9 \\times 9 + cos(3) \\times 49 \\approx 32.5$\n",
        "\n",
        "$\\frac{dL}{dp_2}(3, 7) = -14 \\times 7 + 2 \\times 7 sin(3) \\approx -96$"
      ]
    },
    {
      "cell_type": "code",
      "execution_count": 7,
      "metadata": {
        "colab": {
          "base_uri": "https://localhost:8080/"
        },
        "id": "H8J9pEWYhQ7-",
        "outputId": "42fb2096-ce9b-4982-af88-1d22dbcbdef1"
      },
      "outputs": [
        {
          "name": "stdout",
          "output_type": "stream",
          "text": [
            "tensor([32.4904], grad_fn=<AddBackward0>)\n",
            "tensor([-96.0243], grad_fn=<AddBackward0>)\n"
          ]
        }
      ],
      "source": [
        "# Place your code here (optional)\n",
        "## For calculation of dL/dp in the given point\n",
        "def l_derivative_wrt_p1(p_1, p_2):\n",
        "  return 9*p_1**2 + torch.cos(p_1)*p_2**2\n",
        "def l_derivative_wrt_p2(p_1, p_2):\n",
        "  return -14*p_2 + 2*p_2*torch.sin(p_1)\n",
        "\n",
        "print(l_derivative_wrt_p1(p1, p2))\n",
        "print(l_derivative_wrt_p2(p1, p2))"
      ]
    },
    {
      "cell_type": "markdown",
      "metadata": {
        "id": "vfnbUWe9jDN_"
      },
      "source": [
        "Now let's calculate this using pytorch. The below code will construct the computational graph and stores the gradient of each variable inside of it."
      ]
    },
    {
      "cell_type": "code",
      "execution_count": 8,
      "metadata": {
        "id": "JHOUb91BfSLV"
      },
      "outputs": [],
      "source": [
        "L.backward()"
      ]
    },
    {
      "cell_type": "markdown",
      "metadata": {
        "id": "DPlm6Y-WjdqQ"
      },
      "source": [
        "Check whether the result of your calculations is the same with the autograd's output."
      ]
    },
    {
      "cell_type": "code",
      "execution_count": 9,
      "metadata": {
        "colab": {
          "base_uri": "https://localhost:8080/"
        },
        "id": "dTATg0EXfemL",
        "outputId": "d9ded65a-3c52-446d-d3b1-d08bc98e1240"
      },
      "outputs": [
        {
          "name": "stdout",
          "output_type": "stream",
          "text": [
            "P_1 grad: 32.4903678894043\n",
            "P_2 grad: -96.02432250976562\n"
          ]
        }
      ],
      "source": [
        "print(f\"P_1 grad: {p1.grad.item()}\\nP_2 grad: {p2.grad.item()}\")"
      ]
    },
    {
      "cell_type": "markdown",
      "metadata": {
        "id": "bnNZl6e6jpqt"
      },
      "source": [
        "## Transform "
      ]
    },
    {
      "cell_type": "markdown",
      "metadata": {
        "id": "LU7tlE9JkdPq"
      },
      "source": [
        "Data does not always come in its final processed form that is required for training machine learning algorithms. We use transforms to perform some manipulation of the data and make it suitable for training. For more details, you can read [this link](https://pytorch.org/vision/stable/transforms.html)\n",
        "\n",
        "There are many transformations that are already implemented inside pytorch that you can use. Here we are going to implement some transformation from scratch using PyTorch's framework."
      ]
    },
    {
      "cell_type": "markdown",
      "metadata": {
        "id": "axRueoKYkrq2"
      },
      "source": [
        "#### Random Horizontal Flip Transformation"
      ]
    },
    {
      "cell_type": "markdown",
      "metadata": {
        "id": "VWJaLIkgl6im"
      },
      "source": [
        "Define a transformation that flips the image (horizontally) with probability of $p$. In order to implement a simple transformation class, you need to have two methods: `__init__` and `__call__` (which receives the image)"
      ]
    },
    {
      "cell_type": "code",
      "execution_count": 10,
      "metadata": {
        "id": "tpVu037dkqGW"
      },
      "outputs": [],
      "source": [
        "class RandomHorizontalFlip(object):\n",
        "    def __init__(self, p=0.5):\n",
        "    # Place your code here (2 Points)\n",
        "      self.p = p\n",
        "  \n",
        "    def __call__(self, x):\n",
        "    # Place your code here (3 Points)\n",
        "      self.x = x\n",
        "      flipped = torch.flip(x, [0, 1])\n",
        "      select_p = random.random()\n",
        "      return flipped if select_p < self.p else x"
      ]
    },
    {
      "cell_type": "markdown",
      "metadata": {
        "id": "p7kC6zOOmraA"
      },
      "source": [
        "#### Random Color Swap"
      ]
    },
    {
      "cell_type": "markdown",
      "metadata": {
        "id": "LcFPotJVmzha"
      },
      "source": [
        "Now that you have learned how to implement a transformation class, let's build another one. Define a transformation which swaps the colors (in the gray scale image) with probability of $p$. For example, if the given image had a white colored number with a black background, it should output an image with black colored number and a white background.\n",
        "\n",
        "**Hint:** for a given input $x$, you can concider the swapped color version of it as $x_{new} = m - x$ where $m$ is the maximum value in image $x$"
      ]
    },
    {
      "cell_type": "code",
      "execution_count": 11,
      "metadata": {
        "id": "5_4W0QeDmxrZ"
      },
      "outputs": [],
      "source": [
        "# Place your code here (5 Points)\n",
        "class RandomColorSwap(object):\n",
        "  def __init__ (self, p=0.5):\n",
        "    self.p = p\n",
        "  \n",
        "  def __call__(self, x):\n",
        "    self.x = x\n",
        "    m = torch.max(x)\n",
        "    swapped = m - x\n",
        "    select_p = random.random()\n",
        "    return swapped if select_p < self.p else x"
      ]
    },
    {
      "cell_type": "markdown",
      "metadata": {
        "id": "6sO1GAmQn-D_"
      },
      "source": [
        "### Evaluation of transformations"
      ]
    },
    {
      "cell_type": "markdown",
      "metadata": {
        "id": "gU8dglTeoCSq"
      },
      "source": [
        "Now, let's apply these transformations on some images of our dataset. You can stack different transformation using `Compose`"
      ]
    },
    {
      "cell_type": "code",
      "execution_count": 12,
      "metadata": {
        "id": "HhU0pqttoBC7"
      },
      "outputs": [],
      "source": [
        "trans = transforms.Compose([\n",
        "  RandomHorizontalFlip(p=0.7),\n",
        "  RandomColorSwap()\n",
        "])"
      ]
    },
    {
      "cell_type": "code",
      "execution_count": null,
      "metadata": {
        "colab": {
          "base_uri": "https://localhost:8080/",
          "height": 248
        },
        "id": "WjTBM5N8oMJQ",
        "outputId": "6743a3af-a0a5-43bb-c386-6232c381499a"
      },
      "outputs": [
        {
          "data": {
            "image/png": "[encoded data removed]",
            "text/plain": [
              "<Figure size 1800x360 with 20 Axes>"
            ]
          },
          "metadata": {},
          "output_type": "display_data"
        }
      ],
      "source": [
        "num_imgs = 10\n",
        "fig, axs = plt.subplots(2, num_imgs, figsize=(25, 5))\n",
        "for i, idx in enumerate(torch.randint(0, len(mnist_dataset), [num_imgs])):\n",
        "    x, y = mnist_dataset[idx]\n",
        "    axs[0, i].imshow(x[0], cmap='gray')\n",
        "    axs[1, i].imshow(trans(x)[0], cmap='gray')\n",
        "    for k in range(2):\n",
        "        axs[k, i].set_yticks([])\n",
        "        axs[k, i].set_xticks([])\n",
        "\n",
        "axs[0, 0].set_ylabel(\"Original\")\n",
        "axs[1, 0].set_ylabel(\"Transformed\");"
      ]
    },
    {
      "cell_type": "markdown",
      "metadata": {
        "id": "nrl6OhN_osOd"
      },
      "source": [
        "What we expect to see is that, some of them are fliped horizontally, some swapped in color, and some both."
      ]
    },
    {
      "cell_type": "markdown",
      "metadata": {
        "id": "6f3K_sOxpG3V"
      },
      "source": [
        "## Dataset"
      ]
    },
    {
      "cell_type": "markdown",
      "metadata": {
        "id": "sYh7GBGPpQhU"
      },
      "source": [
        "In this section, we are going to implement a dataset class. Inside `torchvision.datasets` there are many Datasets that are already implemented and ready to use. But, in many situations it's necessary to implement one by your self."
      ]
    },
    {
      "cell_type": "markdown",
      "metadata": {
        "id": "JqQjsiGTrW8l"
      },
      "source": [
        "Run the below cell to initialize our dataset"
      ]
    },
    {
      "cell_type": "code",
      "execution_count": 13,
      "metadata": {
        "colab": {
          "base_uri": "https://localhost:8080/"
        },
        "id": "FztDAwMxrLRx",
        "outputId": "66cedf12-0efb-4d7b-e4aa-53cd3be59285"
      },
      "outputs": [
        {
          "name": "stderr",
          "output_type": "stream",
          "text": [
            "100%|██████████| 5000/5000 [00:02<00:00, 2203.96it/s]\n"
          ]
        }
      ],
      "source": [
        "dataset_path = \"new_mnist\"\n",
        "init_mnist_subset_directories(mnist_dataset, dataset_path)"
      ]
    },
    {
      "cell_type": "markdown",
      "metadata": {
        "id": "7iYvcVlhrmmk"
      },
      "source": [
        "If you take a look at `new_mnist` directory which is created in the directory you are working in, you see that it contains 10 folders with names from `0` to `9` indicating the label of the images inside it. Inside each, some files with name `data_{number}.pth` exist. Each `.pth` file is an image.\n",
        "\n",
        "Now you have to implement a Dataset on top of these files.\n",
        "The methods that you should implement in a Dataset (as you can see in the code) is as described below:\n",
        "- `__init__`: In our example assume that it only accepts `root_dir` and `transform` as it's parameters (You should apply the transformations before outputing the data)\n",
        "- `__len__`: Should return the number of data in your dataset\n",
        "- `__getitem__`: which receives an index, should return the data at the given index (which is a tuple here, containing image and the corresponding label) "
      ]
    },
    {
      "cell_type": "code",
      "execution_count": 14,
      "metadata": {
        "id": "RixD6z30qt1o"
      },
      "outputs": [],
      "source": [
        "class MNISTDataset(Dataset):\n",
        "    def __init__(self, root_dir, transform):\n",
        "        # Place your code here (4 Points)\n",
        "        ## Hint: Use os.listdir(some_path) to get the list of files\n",
        "        self.transform = transform\n",
        "        trans = transforms.Compose([transform])\n",
        "        self.dataset = []\n",
        "        folders = os.listdir(root_dir)\n",
        "        for folder in folders:\n",
        "          label = int(folder)\n",
        "          folder_images = os.listdir(root_dir + '/' + folder)\n",
        "          for image in folder_images:\n",
        "            pth = root_dir + '/' + folder + '/' + image\n",
        "            self.dataset.append((trans(torch.load(pth)[0]), label))  \n",
        "        \n",
        "    def __len__(self):\n",
        "        # Place your code here (1 Points)\n",
        "        return len(self.dataset)\n",
        "\n",
        "    def __getitem__(self, idx):\n",
        "        # Place your code here (3 Points)\n",
        "        ## Return a tuple (image, label)\n",
        "        return self.dataset[idx]\n",
        "        pass"
      ]
    },
    {
      "cell_type": "markdown",
      "metadata": {
        "id": "ObSdu-MwuYJK"
      },
      "source": [
        "After you defined your dataset, let's use it."
      ]
    },
    {
      "cell_type": "code",
      "execution_count": 15,
      "metadata": {
        "colab": {
          "base_uri": "https://localhost:8080/"
        },
        "id": "YctASmSEuiqG",
        "outputId": "cba77972-d34c-4c73-98c0-2708e8df8e53"
      },
      "outputs": [
        {
          "data": {
            "text/plain": [
              "5000"
            ]
          },
          "execution_count": 15,
          "metadata": {},
          "output_type": "execute_result"
        }
      ],
      "source": [
        "my_dataset = MNISTDataset(root_dir=dataset_path, transform=RandomColorSwap())\n",
        "len(my_dataset)"
      ]
    },
    {
      "cell_type": "markdown",
      "metadata": {
        "id": "VMTt5b4wvWik"
      },
      "source": [
        "Visualize 10 samples (randomely) from your dataset with their labels"
      ]
    },
    {
      "cell_type": "code",
      "execution_count": null,
      "metadata": {
        "colab": {
          "base_uri": "https://localhost:8080/",
          "height": 1000
        },
        "id": "nWMmwUvjudSr",
        "outputId": "45cb2736-bfe3-49ea-b26e-e9a2db269d24"
      },
      "outputs": [
        {
          "data": {
            "image/png": "[encoded data removed]",
            "text/plain": [
              "<Figure size 1800x1800 with 10 Axes>"
            ]
          },
          "metadata": {},
          "output_type": "display_data"
        }
      ],
      "source": [
        "# Place your code here (2 Points)\n",
        "fig, axs = plt.subplots(10, figsize=(25, 25))\n",
        "for i in range(10):\n",
        "  axs[i].imshow(my_dataset[random.randint(0, len(my_dataset))][0])"
      ]
    },
    {
      "cell_type": "markdown",
      "metadata": {
        "id": "qKWNRCGuwDpf"
      },
      "source": [
        "## MNIST Classification"
      ]
    },
    {
      "cell_type": "markdown",
      "metadata": {
        "id": "DQ8QfxCnzESu"
      },
      "source": [
        "### Model\n",
        "Define your model (Based on what you have learned in the workshop). I highly encourage you to try different models with different layers in order to achieve a better accuracy\n",
        "\n",
        "**Notice:** You cannot use convolution layers in your model "
      ]
    },
    {
      "cell_type": "code",
      "execution_count": 211,
      "metadata": {
        "id": "2rpkLTDazDgl"
      },
      "outputs": [],
      "source": [
        "# Place your code here (5 points)\n",
        "class DigitRecognizer(nn.Module):\n",
        "  def __init__(self):\n",
        "    super().__init__()\n",
        "    self.net = nn.Sequential(\n",
        "        nn.Linear(784, 512), #The image is 28*28\n",
        "        # nn.ReLU(),\n",
        "        nn.BatchNorm1d(512),\n",
        "        # nn.ReLU(),\n",
        "        nn.Linear(512, 256),\n",
        "        # nn.BatchNorm1d(256),\n",
        "        nn.ReLU(),\n",
        "        nn.BatchNorm1d(256),\n",
        "        nn.Linear(256, 64),\n",
        "        # nn.ReLU(),\n",
        "        # nn.BatchNorm1d(100),\n",
        "        # nn.Linear(100,64),\n",
        "        # nn.ReLU(),\n",
        "        nn.Linear(64,32),\n",
        "        nn.ReLU(),\n",
        "        nn.BatchNorm1d(32),\n",
        "        nn.Linear(32,10),\n",
        "    )\n",
        "  def forward(self, x: torch.Tensor) -> torch.Tensor:\n",
        "    x = self.net(x)\n",
        "    return x\n"
      ]
    },
    {
      "cell_type": "code",
      "execution_count": 212,
      "metadata": {
        "colab": {
          "base_uri": "https://localhost:8080/"
        },
        "id": "rVXXfXBvzwY3",
        "outputId": "29122e1a-a48e-480a-92aa-668bcc4876c1"
      },
      "outputs": [
        {
          "data": {
            "text/plain": [
              "DigitRecognizer(\n",
              "  (net): Sequential(\n",
              "    (0): Linear(in_features=784, out_features=512, bias=True)\n",
              "    (1): BatchNorm1d(512, eps=1e-05, momentum=0.1, affine=True, track_running_stats=True)\n",
              "    (2): Linear(in_features=512, out_features=256, bias=True)\n",
              "    (3): ReLU()\n",
              "    (4): BatchNorm1d(256, eps=1e-05, momentum=0.1, affine=True, track_running_stats=True)\n",
              "    (5): Linear(in_features=256, out_features=64, bias=True)\n",
              "    (6): Linear(in_features=64, out_features=32, bias=True)\n",
              "    (7): ReLU()\n",
              "    (8): BatchNorm1d(32, eps=1e-05, momentum=0.1, affine=True, track_running_stats=True)\n",
              "    (9): Linear(in_features=32, out_features=10, bias=True)\n",
              "  )\n",
              ")"
            ]
          },
          "execution_count": 212,
          "metadata": {},
          "output_type": "execute_result"
        }
      ],
      "source": [
        "model = DigitRecognizer().to(device)\n",
        "model"
      ]
    },
    {
      "cell_type": "markdown",
      "metadata": {
        "id": "29ekb8vBz06M"
      },
      "source": [
        "### Dataset and Dataloader"
      ]
    },
    {
      "cell_type": "markdown",
      "metadata": {
        "id": "UIJbRn7C0MXI"
      },
      "source": [
        "Prepare datasets and dataloader for train/test. We use MNIST dataset that is already implemented inside `torchvision.datasets`.\n",
        "\n",
        " You need to split the `mnist_dataset` into `train_dataset` and `val_dataset`. \n",
        " \n",
        " You can also define more transformations that you think it would help the training process **(Optional)**."
      ]
    },
    {
      "cell_type": "code",
      "execution_count": 213,
      "metadata": {
        "id": "OGASwi3AzzZV"
      },
      "outputs": [],
      "source": [
        "transform_compose = transforms.Compose([\n",
        "    transforms.ToTensor(),\n",
        "    # Place your code here\n",
        "])\n",
        "\n",
        "mnist_dataset = datasets.MNIST(root='dataset', train=True, download=True, transform=transform_compose)\n",
        "# Place your code here (1 points)\n",
        "## Notice: Split mnist_dataset into train_dataset and val_dataset\n",
        "train_size = int(0.9 * len(my_dataset))\n",
        "val_size = len(my_dataset) - train_size\n",
        "train_dataset, val_dataset = torch.utils.data.random_split(my_dataset, (train_size, val_size))\n",
        "\n",
        "# End of block for your code placement\n",
        "test_dataset = datasets.MNIST(root='dataset', train=False, download=True, transform=transforms.ToTensor())\n",
        "\n",
        "train_loader = DataLoader(dataset=train_dataset, batch_size=32, shuffle=True)\n",
        "val_loader = DataLoader(dataset=val_dataset, batch_size=32, shuffle=False)\n",
        "test_loader = DataLoader(dataset=test_dataset, batch_size=32, shuffle=False)"
      ]
    },
    {
      "cell_type": "markdown",
      "metadata": {
        "id": "8_knAsJK1eoL"
      },
      "source": [
        "### Criterion and Optimizer"
      ]
    },
    {
      "cell_type": "markdown",
      "metadata": {
        "id": "hCwVvh7v1mPy"
      },
      "source": [
        "you have to tune the `learning_rate` yourself (Based on your training process)"
      ]
    },
    {
      "cell_type": "code",
      "execution_count": 214,
      "metadata": {
        "id": "3AiRenXy1jJO"
      },
      "outputs": [],
      "source": [
        "criterion = nn.CrossEntropyLoss()\n",
        "learning_rate = 1e-4\n",
        "optimizer = torch.optim.Adam(model.parameters(), lr=learning_rate)"
      ]
    },
    {
      "cell_type": "markdown",
      "metadata": {
        "id": "4c9K1Hlf12UF"
      },
      "source": [
        "### Train your model"
      ]
    },
    {
      "cell_type": "markdown",
      "metadata": {
        "id": "urJ44vOA2Exl"
      },
      "source": [
        "Write your training/validation loop in the following cell for an arbitrary number of epochs (until convergence is detected). You also need to store train/validation loss at each epoch in order to visualize them the after training is done."
      ]
    },
    {
      "cell_type": "code",
      "execution_count": 215,
      "metadata": {
        "colab": {
          "base_uri": "https://localhost:8080/"
        },
        "id": "lyCVVo742PPQ",
        "outputId": "9432b88d-91cd-496e-bff3-f38190b41a52"
      },
      "outputs": [
        {
          "name": "stdout",
          "output_type": "stream",
          "text": [
            "[Epoch 0]\tTrain Loss: 1.5908\tValidation Loss: 1.2193\n",
            "[Epoch 1]\tTrain Loss: 1.0933\tValidation Loss: 0.8930\n",
            "[Epoch 2]\tTrain Loss: 0.8832\tValidation Loss: 0.7083\n",
            "[Epoch 3]\tTrain Loss: 0.7261\tValidation Loss: 0.5918\n",
            "[Epoch 4]\tTrain Loss: 0.6101\tValidation Loss: 0.4708\n",
            "[Epoch 5]\tTrain Loss: 0.5145\tValidation Loss: 0.3672\n",
            "[Epoch 6]\tTrain Loss: 0.4463\tValidation Loss: 0.3462\n",
            "[Epoch 7]\tTrain Loss: 0.3875\tValidation Loss: 0.2648\n",
            "[Epoch 8]\tTrain Loss: 0.3441\tValidation Loss: 0.2447\n",
            "[Epoch 9]\tTrain Loss: 0.2961\tValidation Loss: 0.1987\n",
            "[Epoch 10]\tTrain Loss: 0.2707\tValidation Loss: 0.2004\n",
            "[Epoch 11]\tTrain Loss: 0.2437\tValidation Loss: 0.1573\n",
            "[Epoch 12]\tTrain Loss: 0.2056\tValidation Loss: 0.1397\n",
            "[Epoch 13]\tTrain Loss: 0.1888\tValidation Loss: 0.1662\n",
            "[Epoch 14]\tTrain Loss: 0.1786\tValidation Loss: 0.1424\n",
            "[Epoch 15]\tTrain Loss: 0.1579\tValidation Loss: 0.1049\n",
            "[Epoch 16]\tTrain Loss: 0.1482\tValidation Loss: 0.0971\n",
            "[Epoch 17]\tTrain Loss: 0.1271\tValidation Loss: 0.0752\n",
            "[Epoch 18]\tTrain Loss: 0.1266\tValidation Loss: 0.0936\n",
            "[Epoch 19]\tTrain Loss: 0.1072\tValidation Loss: 0.0721\n",
            "[Epoch 20]\tTrain Loss: 0.1017\tValidation Loss: 0.0819\n",
            "[Epoch 21]\tTrain Loss: 0.1035\tValidation Loss: 0.0811\n",
            "[Epoch 22]\tTrain Loss: 0.1010\tValidation Loss: 0.0678\n",
            "[Epoch 23]\tTrain Loss: 0.0900\tValidation Loss: 0.0707\n",
            "[Epoch 24]\tTrain Loss: 0.0854\tValidation Loss: 0.0455\n",
            "[Epoch 25]\tTrain Loss: 0.0696\tValidation Loss: 0.0549\n",
            "[Epoch 26]\tTrain Loss: 0.0669\tValidation Loss: 0.0462\n",
            "[Epoch 27]\tTrain Loss: 0.0822\tValidation Loss: 0.0508\n",
            "[Epoch 28]\tTrain Loss: 0.0788\tValidation Loss: 0.0519\n",
            "[Epoch 29]\tTrain Loss: 0.0627\tValidation Loss: 0.0576\n",
            "[Epoch 30]\tTrain Loss: 0.0570\tValidation Loss: 0.0386\n",
            "[Epoch 31]\tTrain Loss: 0.0566\tValidation Loss: 0.0497\n",
            "[Epoch 32]\tTrain Loss: 0.0492\tValidation Loss: 0.0339\n",
            "[Epoch 33]\tTrain Loss: 0.0533\tValidation Loss: 0.0275\n",
            "[Epoch 34]\tTrain Loss: 0.0444\tValidation Loss: 0.0210\n",
            "[Epoch 35]\tTrain Loss: 0.0396\tValidation Loss: 0.0307\n",
            "[Epoch 36]\tTrain Loss: 0.0446\tValidation Loss: 0.1022\n",
            "[Epoch 37]\tTrain Loss: 0.0546\tValidation Loss: 0.0384\n",
            "[Epoch 38]\tTrain Loss: 0.0594\tValidation Loss: 0.0227\n",
            "[Epoch 39]\tTrain Loss: 0.0462\tValidation Loss: 0.0218\n"
          ]
        }
      ],
      "source": [
        "num_epochs = 40\n",
        "\n",
        "train_loss_arr, val_loss_arr = [], []\n",
        "for epoch in range(num_epochs):\n",
        "    train_loss, val_loss = 0, 0\n",
        "\n",
        "    model.train()\n",
        "    # Place your code here (5 points)\n",
        "    ## Hint: Loop throught train_loader, get images with their labels and train the model\n",
        "    ## Hint 2: To update train_loss inside the loop use \"train_loss += batch_loss * batch_size\"\"\n",
        "    for i, (x, y) in enumerate(train_loader):\n",
        "      x = x.to(device)\n",
        "      y = y.to(device)\n",
        "      p = model(torch.flatten(x, start_dim = 1))\n",
        "      loss = criterion(p, y) * 32\n",
        "\n",
        "      train_loss += float(loss)\n",
        "      predictions = p.argmax(-1)\n",
        "\n",
        "      loss.backward()\n",
        "      optimizer.step()\n",
        "      optimizer.zero_grad()\n",
        "  \n",
        "    model.eval()\n",
        "    # Place your code here (4 points)\n",
        "    ## Hint: Loop throught val_loader, get images with their labels and evaluate the model\n",
        "    ## Hint 2: To update val_loss inside the loop use \"val_loss += batch_loss * batch_size\"\"\n",
        "    for i, (x, y) in enumerate(val_loader):\n",
        "      x = x.to(device)\n",
        "      y = y.to(device)\n",
        "      p = model(torch.flatten(x, start_dim = 1))\n",
        "      loss = criterion(p, y) * 32\n",
        "\n",
        "      val_loss += float(loss)\n",
        "      predictions = p.argmax(-1)\n",
        "\n",
        "      loss.backward()\n",
        "      optimizer.step()\n",
        "      optimizer.zero_grad()\n",
        "\n",
        "    train_loss /= len(train_loader.dataset)\n",
        "    val_loss /= len(val_loader.dataset)\n",
        "    train_loss_arr.append(train_loss)\n",
        "    val_loss_arr.append(val_loss)\n",
        "\n",
        "    print(f\"[Epoch {epoch}]\\t\"\n",
        "        f\"Train Loss: {train_loss:.4f}\\t\"\n",
        "        f\"Validation Loss: {val_loss:.4f}\")"
      ]
    },
    {
      "cell_type": "markdown",
      "metadata": {
        "id": "oe3KbjZG2mNd"
      },
      "source": [
        "#### Plot train/validation loss"
      ]
    },
    {
      "cell_type": "code",
      "execution_count": 216,
      "metadata": {
        "colab": {
          "base_uri": "https://localhost:8080/",
          "height": 545
        },
        "id": "nNwH8WMy2qmr",
        "outputId": "cc0a1e28-ae02-4b1e-847d-6ec1b17bd2f2"
      },
      "outputs": [
        {
          "data": {
            "image/png": "[encoded data removed]",
            "text/plain": [
              "<Figure size 432x288 with 1 Axes>"
            ]
          },
          "metadata": {
            "needs_background": "light"
          },
          "output_type": "display_data"
        },
        {
          "data": {
            "image/png": "[encoded data removed]",
            "text/plain": [
              "<Figure size 432x288 with 1 Axes>"
            ]
          },
          "metadata": {
            "needs_background": "light"
          },
          "output_type": "display_data"
        }
      ],
      "source": [
        "# Place your code here (1 points)\n",
        "xs = np.arange(1, num_epochs+1)\n",
        "plt.plot(xs, train_loss_arr)\n",
        "plt.title(\"Train Loss\")\n",
        "plt.show()\n",
        "\n",
        "plt.plot(xs, val_loss_arr)\n",
        "plt.title(\"Validation Loss\")\n",
        "plt.show()"
      ]
    },
    {
      "cell_type": "markdown",
      "metadata": {
        "id": "AKsD6NhU2w71"
      },
      "source": [
        "### Evaluation"
      ]
    },
    {
      "cell_type": "markdown",
      "metadata": {
        "id": "oZcXJuWX255T"
      },
      "source": [
        "Evaluate your model on test set. you have to report both loss and accuracy.\n",
        "\n",
        "In order to get the full score of this section, you need to achieve an accuracy above $95\\%$ and to get the extra points, your accuracy should be above $98\\%$ \n",
        "\n",
        "**Notice:** You should use test set only for evaluation of your model."
      ]
    },
    {
      "cell_type": "code",
      "execution_count": 218,
      "metadata": {
        "colab": {
          "base_uri": "https://localhost:8080/"
        },
        "id": "bl4bsjhg2xMo",
        "outputId": "0d235b25-bcd3-4884-a449-ea209857d79e"
      },
      "outputs": [
        {
          "name": "stderr",
          "output_type": "stream",
          "text": [
            "Loss: 5.425e+00 - Acc: 95.08%: 100%|██████████| 313/313 [00:03<00:00, 91.41it/s]\n"
          ]
        }
      ],
      "source": [
        "# Place your code here (4 points + 5 Extra)\n",
        "epoch_loss = 0\n",
        "epoch_true = 0\n",
        "epoch_all = 0\n",
        "i = 0\n",
        "\n",
        "model.eval()\n",
        "with torch.no_grad(), tqdm.tqdm(enumerate(test_loader), total=len(test_loader)) as pbar:\n",
        "    for i, (x, y) in pbar:\n",
        "        x = x.to(device)\n",
        "        y = y.to(device)\n",
        "        p = model(torch.flatten(x, start_dim = 1))\n",
        "\n",
        "        loss = criterion(p, y) * 32\n",
        "        epoch_loss += float(loss)\n",
        "\n",
        "        predictions = p.argmax(-1)\n",
        "        epoch_all += len(predictions)\n",
        "        epoch_true += (predictions == y).sum()\n",
        "\n",
        "        pbar.set_description(f'Loss: {epoch_loss / (i + 1):.3e} - Acc: {epoch_true * 100. / epoch_all:.2f}%')"
      ]
    },
    {
      "cell_type": "markdown",
      "metadata": {
        "id": "w4eZsFnV3rTi"
      },
      "source": [
        "### Visualization of wrong prediction"
      ]
    },
    {
      "cell_type": "markdown",
      "metadata": {
        "id": "y9jvB_lZ3uqx"
      },
      "source": [
        "Visualize $8$ samples (along with original label and model's prediction) from test set which are labeled wrong by your model"
      ]
    },
    {
      "cell_type": "code",
      "execution_count": 230,
      "metadata": {
        "colab": {
          "base_uri": "https://localhost:8080/",
          "height": 1000
        },
        "id": "8rLlhJvE4IjZ",
        "outputId": "eab1425f-1600-4cac-911a-dc9148aab734"
      },
      "outputs": [
        {
          "data": {
            "image/png": "[encoded data removed]",
            "text/plain": [
              "<Figure size 3600x3600 with 10 Axes>"
            ]
          },
          "metadata": {
            "needs_background": "light"
          },
          "output_type": "display_data"
        }
      ],
      "source": [
        "# Place your code here (5 points)\n",
        "wrong_counted = 0\n",
        "wrong_predictions = []\n",
        "for i, (x, y) in enumerate(test_loader):\n",
        "  if wrong_counted >= 8:\n",
        "    break\n",
        "  x = x.to(device)\n",
        "  y = y.to(device)\n",
        "  p = model(torch.flatten(x, start_dim = 1))\n",
        "  predictions = p.argmax(-1)\n",
        "\n",
        "  for j, prediction in enumerate(predictions):\n",
        "    if wrong_counted >= 8:\n",
        "      break\n",
        "    if (prediction != y[j]):\n",
        "      wrong_counted += 1\n",
        "      wrong_image = x[j]\n",
        "      wrong_predictions.append((prediction, y[j], wrong_image[0]))\n",
        "\n",
        "fig, axs = plt.subplots(ncols = 10, figsize=(50, 50))\n",
        "for i, wrong_prediction in enumerate(wrong_predictions):\n",
        "  axs[i].imshow(wrong_prediction[2])\n",
        "  axs[i].set_title(f\"predicted: {wrong_prediction[0]} - Label: {wrong_prediction[1]}\")"
      ]
    }
  ],
  "metadata": {
    "accelerator": "GPU",
    "colab": {
      "collapsed_sections": [],
      "name": "Q2.ipynb",
      "provenance": []
    },
    "interpreter": {
      "hash": "f336af7d54ba0f0c1daaf2256eb85f31e983e88153daf7a27ef3ea6c724faba4"
    },
    "kernelspec": {
      "display_name": "Python 3 (ipykernel)",
      "language": "python",
      "name": "python3"
    },
    "language_info": {
      "codemirror_mode": {
        "name": "ipython",
        "version": 3
      },
      "file_extension": ".py",
      "mimetype": "text/x-python",
      "name": "python",
      "nbconvert_exporter": "python",
      "pygments_lexer": "ipython3",
      "version": "3.9.2"
    },
    "widgets": {
      "application/vnd.jupyter.widget-state+json": {
        "031aa4a43f044b70b5cffd614bedc942": {
          "model_module": "@jupyter-widgets/base",
          "model_module_version": "1.2.0",
          "model_name": "LayoutModel",
          "state": {
            "_model_module": "@jupyter-widgets/base",
            "_model_module_version": "1.2.0",
            "_model_name": "LayoutModel",
            "_view_count": null,
            "_view_module": "@jupyter-widgets/base",
            "_view_module_version": "1.2.0",
            "_view_name": "LayoutView",
            "align_content": null,
            "align_items": null,
            "align_self": null,
            "border": null,
            "bottom": null,
            "display": null,
            "flex": null,
            "flex_flow": null,
            "grid_area": null,
            "grid_auto_columns": null,
            "grid_auto_flow": null,
            "grid_auto_rows": null,
            "grid_column": null,
            "grid_gap": null,
            "grid_row": null,
            "grid_template_areas": null,
            "grid_template_columns": null,
            "grid_template_rows": null,
            "height": null,
            "justify_content": null,
            "justify_items": null,
            "left": null,
            "margin": null,
            "max_height": null,
            "max_width": null,
            "min_height": null,
            "min_width": null,
            "object_fit": null,
            "object_position": null,
            "order": null,
            "overflow": null,
            "overflow_x": null,
            "overflow_y": null,
            "padding": null,
            "right": null,
            "top": null,
            "visibility": null,
            "width": null
          }
        },
        "143df3c7a68442af96d350a313d9b129": {
          "model_module": "@jupyter-widgets/controls",
          "model_module_version": "1.5.0",
          "model_name": "DescriptionStyleModel",
          "state": {
            "_model_module": "@jupyter-widgets/controls",
            "_model_module_version": "1.5.0",
            "_model_name": "DescriptionStyleModel",
            "_view_count": null,
            "_view_module": "@jupyter-widgets/base",
            "_view_module_version": "1.2.0",
            "_view_name": "StyleView",
            "description_width": ""
          }
        },
        "2699f081f6ef4bf3ac213aa971c585f6": {
          "model_module": "@jupyter-widgets/base",
          "model_module_version": "1.2.0",
          "model_name": "LayoutModel",
          "state": {
            "_model_module": "@jupyter-widgets/base",
            "_model_module_version": "1.2.0",
            "_model_name": "LayoutModel",
            "_view_count": null,
            "_view_module": "@jupyter-widgets/base",
            "_view_module_version": "1.2.0",
            "_view_name": "LayoutView",
            "align_content": null,
            "align_items": null,
            "align_self": null,
            "border": null,
            "bottom": null,
            "display": null,
            "flex": null,
            "flex_flow": null,
            "grid_area": null,
            "grid_auto_columns": null,
            "grid_auto_flow": null,
            "grid_auto_rows": null,
            "grid_column": null,
            "grid_gap": null,
            "grid_row": null,
            "grid_template_areas": null,
            "grid_template_columns": null,
            "grid_template_rows": null,
            "height": null,
            "justify_content": null,
            "justify_items": null,
            "left": null,
            "margin": null,
            "max_height": null,
            "max_width": null,
            "min_height": null,
            "min_width": null,
            "object_fit": null,
            "object_position": null,
            "order": null,
            "overflow": null,
            "overflow_x": null,
            "overflow_y": null,
            "padding": null,
            "right": null,
            "top": null,
            "visibility": null,
            "width": null
          }
        },
        "291d4dc1a0cb447fad575eb583936bc8": {
          "model_module": "@jupyter-widgets/controls",
          "model_module_version": "1.5.0",
          "model_name": "HTMLModel",
          "state": {
            "_dom_classes": [],
            "_model_module": "@jupyter-widgets/controls",
            "_model_module_version": "1.5.0",
            "_model_name": "HTMLModel",
            "_view_count": null,
            "_view_module": "@jupyter-widgets/controls",
            "_view_module_version": "1.5.0",
            "_view_name": "HTMLView",
            "description": "",
            "description_tooltip": null,
            "layout": "IPY_MODEL_db2925eded7d405bae93bc1d1890d687",
            "placeholder": "​",
            "style": "IPY_MODEL_eb75157fa9e145c7a44aa8e3227a3f5b",
            "value": " 9913344/? [00:00&lt;00:00, 50622251.10it/s]"
          }
        },
        "2e04e7539b1749fbbfc657c9b1fba6bd": {
          "model_module": "@jupyter-widgets/controls",
          "model_module_version": "1.5.0",
          "model_name": "FloatProgressModel",
          "state": {
            "_dom_classes": [],
            "_model_module": "@jupyter-widgets/controls",
            "_model_module_version": "1.5.0",
            "_model_name": "FloatProgressModel",
            "_view_count": null,
            "_view_module": "@jupyter-widgets/controls",
            "_view_module_version": "1.5.0",
            "_view_name": "ProgressView",
            "bar_style": "success",
            "description": "",
            "description_tooltip": null,
            "layout": "IPY_MODEL_5576777bd04e46538e34d6f141e9363f",
            "max": 1648877,
            "min": 0,
            "orientation": "horizontal",
            "style": "IPY_MODEL_64b40ac6632346d6813abcc8dbf96e88",
            "value": 1648877
          }
        },
        "363ebdba3d2748df86309337fabd9a84": {
          "model_module": "@jupyter-widgets/controls",
          "model_module_version": "1.5.0",
          "model_name": "DescriptionStyleModel",
          "state": {
            "_model_module": "@jupyter-widgets/controls",
            "_model_module_version": "1.5.0",
            "_model_name": "DescriptionStyleModel",
            "_view_count": null,
            "_view_module": "@jupyter-widgets/base",
            "_view_module_version": "1.2.0",
            "_view_name": "StyleView",
            "description_width": ""
          }
        },
        "427471c795c14c8cb906af0cb76999ec": {
          "model_module": "@jupyter-widgets/base",
          "model_module_version": "1.2.0",
          "model_name": "LayoutModel",
          "state": {
            "_model_module": "@jupyter-widgets/base",
            "_model_module_version": "1.2.0",
            "_model_name": "LayoutModel",
            "_view_count": null,
            "_view_module": "@jupyter-widgets/base",
            "_view_module_version": "1.2.0",
            "_view_name": "LayoutView",
            "align_content": null,
            "align_items": null,
            "align_self": null,
            "border": null,
            "bottom": null,
            "display": null,
            "flex": null,
            "flex_flow": null,
            "grid_area": null,
            "grid_auto_columns": null,
            "grid_auto_flow": null,
            "grid_auto_rows": null,
            "grid_column": null,
            "grid_gap": null,
            "grid_row": null,
            "grid_template_areas": null,
            "grid_template_columns": null,
            "grid_template_rows": null,
            "height": null,
            "justify_content": null,
            "justify_items": null,
            "left": null,
            "margin": null,
            "max_height": null,
            "max_width": null,
            "min_height": null,
            "min_width": null,
            "object_fit": null,
            "object_position": null,
            "order": null,
            "overflow": null,
            "overflow_x": null,
            "overflow_y": null,
            "padding": null,
            "right": null,
            "top": null,
            "visibility": null,
            "width": null
          }
        },
        "50b0bf4a172141139c2da1cfa37f6908": {
          "model_module": "@jupyter-widgets/controls",
          "model_module_version": "1.5.0",
          "model_name": "HTMLModel",
          "state": {
            "_dom_classes": [],
            "_model_module": "@jupyter-widgets/controls",
            "_model_module_version": "1.5.0",
            "_model_name": "HTMLModel",
            "_view_count": null,
            "_view_module": "@jupyter-widgets/controls",
            "_view_module_version": "1.5.0",
            "_view_name": "HTMLView",
            "description": "",
            "description_tooltip": null,
            "layout": "IPY_MODEL_69bff8e7e8814b02afc948821d2855c7",
            "placeholder": "​",
            "style": "IPY_MODEL_363ebdba3d2748df86309337fabd9a84",
            "value": ""
          }
        },
        "544e405582e84bc3a3dcbbda672fe02c": {
          "model_module": "@jupyter-widgets/controls",
          "model_module_version": "1.5.0",
          "model_name": "DescriptionStyleModel",
          "state": {
            "_model_module": "@jupyter-widgets/controls",
            "_model_module_version": "1.5.0",
            "_model_name": "DescriptionStyleModel",
            "_view_count": null,
            "_view_module": "@jupyter-widgets/base",
            "_view_module_version": "1.2.0",
            "_view_name": "StyleView",
            "description_width": ""
          }
        },
        "5576777bd04e46538e34d6f141e9363f": {
          "model_module": "@jupyter-widgets/base",
          "model_module_version": "1.2.0",
          "model_name": "LayoutModel",
          "state": {
            "_model_module": "@jupyter-widgets/base",
            "_model_module_version": "1.2.0",
            "_model_name": "LayoutModel",
            "_view_count": null,
            "_view_module": "@jupyter-widgets/base",
            "_view_module_version": "1.2.0",
            "_view_name": "LayoutView",
            "align_content": null,
            "align_items": null,
            "align_self": null,
            "border": null,
            "bottom": null,
            "display": null,
            "flex": null,
            "flex_flow": null,
            "grid_area": null,
            "grid_auto_columns": null,
            "grid_auto_flow": null,
            "grid_auto_rows": null,
            "grid_column": null,
            "grid_gap": null,
            "grid_row": null,
            "grid_template_areas": null,
            "grid_template_columns": null,
            "grid_template_rows": null,
            "height": null,
            "justify_content": null,
            "justify_items": null,
            "left": null,
            "margin": null,
            "max_height": null,
            "max_width": null,
            "min_height": null,
            "min_width": null,
            "object_fit": null,
            "object_position": null,
            "order": null,
            "overflow": null,
            "overflow_x": null,
            "overflow_y": null,
            "padding": null,
            "right": null,
            "top": null,
            "visibility": null,
            "width": null
          }
        },
        "64b40ac6632346d6813abcc8dbf96e88": {
          "model_module": "@jupyter-widgets/controls",
          "model_module_version": "1.5.0",
          "model_name": "ProgressStyleModel",
          "state": {
            "_model_module": "@jupyter-widgets/controls",
            "_model_module_version": "1.5.0",
            "_model_name": "ProgressStyleModel",
            "_view_count": null,
            "_view_module": "@jupyter-widgets/base",
            "_view_module_version": "1.2.0",
            "_view_name": "StyleView",
            "bar_color": null,
            "description_width": ""
          }
        },
        "69bff8e7e8814b02afc948821d2855c7": {
          "model_module": "@jupyter-widgets/base",
          "model_module_version": "1.2.0",
          "model_name": "LayoutModel",
          "state": {
            "_model_module": "@jupyter-widgets/base",
            "_model_module_version": "1.2.0",
            "_model_name": "LayoutModel",
            "_view_count": null,
            "_view_module": "@jupyter-widgets/base",
            "_view_module_version": "1.2.0",
            "_view_name": "LayoutView",
            "align_content": null,
            "align_items": null,
            "align_self": null,
            "border": null,
            "bottom": null,
            "display": null,
            "flex": null,
            "flex_flow": null,
            "grid_area": null,
            "grid_auto_columns": null,
            "grid_auto_flow": null,
            "grid_auto_rows": null,
            "grid_column": null,
            "grid_gap": null,
            "grid_row": null,
            "grid_template_areas": null,
            "grid_template_columns": null,
            "grid_template_rows": null,
            "height": null,
            "justify_content": null,
            "justify_items": null,
            "left": null,
            "margin": null,
            "max_height": null,
            "max_width": null,
            "min_height": null,
            "min_width": null,
            "object_fit": null,
            "object_position": null,
            "order": null,
            "overflow": null,
            "overflow_x": null,
            "overflow_y": null,
            "padding": null,
            "right": null,
            "top": null,
            "visibility": null,
            "width": null
          }
        },
        "758a7415edd94c779f48584209d2c5bd": {
          "model_module": "@jupyter-widgets/controls",
          "model_module_version": "1.5.0",
          "model_name": "DescriptionStyleModel",
          "state": {
            "_model_module": "@jupyter-widgets/controls",
            "_model_module_version": "1.5.0",
            "_model_name": "DescriptionStyleModel",
            "_view_count": null,
            "_view_module": "@jupyter-widgets/base",
            "_view_module_version": "1.2.0",
            "_view_name": "StyleView",
            "description_width": ""
          }
        },
        "7a995fcbf0704aea94d281ce1b5d0c3e": {
          "model_module": "@jupyter-widgets/base",
          "model_module_version": "1.2.0",
          "model_name": "LayoutModel",
          "state": {
            "_model_module": "@jupyter-widgets/base",
            "_model_module_version": "1.2.0",
            "_model_name": "LayoutModel",
            "_view_count": null,
            "_view_module": "@jupyter-widgets/base",
            "_view_module_version": "1.2.0",
            "_view_name": "LayoutView",
            "align_content": null,
            "align_items": null,
            "align_self": null,
            "border": null,
            "bottom": null,
            "display": null,
            "flex": null,
            "flex_flow": null,
            "grid_area": null,
            "grid_auto_columns": null,
            "grid_auto_flow": null,
            "grid_auto_rows": null,
            "grid_column": null,
            "grid_gap": null,
            "grid_row": null,
            "grid_template_areas": null,
            "grid_template_columns": null,
            "grid_template_rows": null,
            "height": null,
            "justify_content": null,
            "justify_items": null,
            "left": null,
            "margin": null,
            "max_height": null,
            "max_width": null,
            "min_height": null,
            "min_width": null,
            "object_fit": null,
            "object_position": null,
            "order": null,
            "overflow": null,
            "overflow_x": null,
            "overflow_y": null,
            "padding": null,
            "right": null,
            "top": null,
            "visibility": null,
            "width": null
          }
        },
        "7cd3f05e353a4418a372b6e288e0c701": {
          "model_module": "@jupyter-widgets/controls",
          "model_module_version": "1.5.0",
          "model_name": "HTMLModel",
          "state": {
            "_dom_classes": [],
            "_model_module": "@jupyter-widgets/controls",
            "_model_module_version": "1.5.0",
            "_model_name": "HTMLModel",
            "_view_count": null,
            "_view_module": "@jupyter-widgets/controls",
            "_view_module_version": "1.5.0",
            "_view_name": "HTMLView",
            "description": "",
            "description_tooltip": null,
            "layout": "IPY_MODEL_2699f081f6ef4bf3ac213aa971c585f6",
            "placeholder": "​",
            "style": "IPY_MODEL_143df3c7a68442af96d350a313d9b129",
            "value": ""
          }
        },
        "7db27a9183be41eaaee20016fc82c38d": {
          "model_module": "@jupyter-widgets/controls",
          "model_module_version": "1.5.0",
          "model_name": "FloatProgressModel",
          "state": {
            "_dom_classes": [],
            "_model_module": "@jupyter-widgets/controls",
            "_model_module_version": "1.5.0",
            "_model_name": "FloatProgressModel",
            "_view_count": null,
            "_view_module": "@jupyter-widgets/controls",
            "_view_module_version": "1.5.0",
            "_view_name": "ProgressView",
            "bar_style": "success",
            "description": "",
            "description_tooltip": null,
            "layout": "IPY_MODEL_d3bd6ac0e2da43d385aa7b6a389395cc",
            "max": 28881,
            "min": 0,
            "orientation": "horizontal",
            "style": "IPY_MODEL_f2d14c93737d49809c0e993ee0d843c5",
            "value": 28881
          }
        },
        "7de02a55c66a463f9ed304631419a3c0": {
          "model_module": "@jupyter-widgets/base",
          "model_module_version": "1.2.0",
          "model_name": "LayoutModel",
          "state": {
            "_model_module": "@jupyter-widgets/base",
            "_model_module_version": "1.2.0",
            "_model_name": "LayoutModel",
            "_view_count": null,
            "_view_module": "@jupyter-widgets/base",
            "_view_module_version": "1.2.0",
            "_view_name": "LayoutView",
            "align_content": null,
            "align_items": null,
            "align_self": null,
            "border": null,
            "bottom": null,
            "display": null,
            "flex": null,
            "flex_flow": null,
            "grid_area": null,
            "grid_auto_columns": null,
            "grid_auto_flow": null,
            "grid_auto_rows": null,
            "grid_column": null,
            "grid_gap": null,
            "grid_row": null,
            "grid_template_areas": null,
            "grid_template_columns": null,
            "grid_template_rows": null,
            "height": null,
            "justify_content": null,
            "justify_items": null,
            "left": null,
            "margin": null,
            "max_height": null,
            "max_width": null,
            "min_height": null,
            "min_width": null,
            "object_fit": null,
            "object_position": null,
            "order": null,
            "overflow": null,
            "overflow_x": null,
            "overflow_y": null,
            "padding": null,
            "right": null,
            "top": null,
            "visibility": null,
            "width": null
          }
        },
        "8272456f69404194ab27b54873e2653f": {
          "model_module": "@jupyter-widgets/controls",
          "model_module_version": "1.5.0",
          "model_name": "FloatProgressModel",
          "state": {
            "_dom_classes": [],
            "_model_module": "@jupyter-widgets/controls",
            "_model_module_version": "1.5.0",
            "_model_name": "FloatProgressModel",
            "_view_count": null,
            "_view_module": "@jupyter-widgets/controls",
            "_view_module_version": "1.5.0",
            "_view_name": "ProgressView",
            "bar_style": "success",
            "description": "",
            "description_tooltip": null,
            "layout": "IPY_MODEL_7a995fcbf0704aea94d281ce1b5d0c3e",
            "max": 9912422,
            "min": 0,
            "orientation": "horizontal",
            "style": "IPY_MODEL_c1e4470b71f1489da34e0dd358e8fb51",
            "value": 9912422
          }
        },
        "8dd09797a72c4e54bcbc252e27ea7030": {
          "model_module": "@jupyter-widgets/base",
          "model_module_version": "1.2.0",
          "model_name": "LayoutModel",
          "state": {
            "_model_module": "@jupyter-widgets/base",
            "_model_module_version": "1.2.0",
            "_model_name": "LayoutModel",
            "_view_count": null,
            "_view_module": "@jupyter-widgets/base",
            "_view_module_version": "1.2.0",
            "_view_name": "LayoutView",
            "align_content": null,
            "align_items": null,
            "align_self": null,
            "border": null,
            "bottom": null,
            "display": null,
            "flex": null,
            "flex_flow": null,
            "grid_area": null,
            "grid_auto_columns": null,
            "grid_auto_flow": null,
            "grid_auto_rows": null,
            "grid_column": null,
            "grid_gap": null,
            "grid_row": null,
            "grid_template_areas": null,
            "grid_template_columns": null,
            "grid_template_rows": null,
            "height": null,
            "justify_content": null,
            "justify_items": null,
            "left": null,
            "margin": null,
            "max_height": null,
            "max_width": null,
            "min_height": null,
            "min_width": null,
            "object_fit": null,
            "object_position": null,
            "order": null,
            "overflow": null,
            "overflow_x": null,
            "overflow_y": null,
            "padding": null,
            "right": null,
            "top": null,
            "visibility": null,
            "width": null
          }
        },
        "94639018d3e74b3ba0304715ad5f5bd8": {
          "model_module": "@jupyter-widgets/controls",
          "model_module_version": "1.5.0",
          "model_name": "FloatProgressModel",
          "state": {
            "_dom_classes": [],
            "_model_module": "@jupyter-widgets/controls",
            "_model_module_version": "1.5.0",
            "_model_name": "FloatProgressModel",
            "_view_count": null,
            "_view_module": "@jupyter-widgets/controls",
            "_view_module_version": "1.5.0",
            "_view_name": "ProgressView",
            "bar_style": "success",
            "description": "",
            "description_tooltip": null,
            "layout": "IPY_MODEL_427471c795c14c8cb906af0cb76999ec",
            "max": 4542,
            "min": 0,
            "orientation": "horizontal",
            "style": "IPY_MODEL_fd4defde78e640988f7d999375a7ac5c",
            "value": 4542
          }
        },
        "988cdf5a93244b8da193289c0e54d43d": {
          "model_module": "@jupyter-widgets/base",
          "model_module_version": "1.2.0",
          "model_name": "LayoutModel",
          "state": {
            "_model_module": "@jupyter-widgets/base",
            "_model_module_version": "1.2.0",
            "_model_name": "LayoutModel",
            "_view_count": null,
            "_view_module": "@jupyter-widgets/base",
            "_view_module_version": "1.2.0",
            "_view_name": "LayoutView",
            "align_content": null,
            "align_items": null,
            "align_self": null,
            "border": null,
            "bottom": null,
            "display": null,
            "flex": null,
            "flex_flow": null,
            "grid_area": null,
            "grid_auto_columns": null,
            "grid_auto_flow": null,
            "grid_auto_rows": null,
            "grid_column": null,
            "grid_gap": null,
            "grid_row": null,
            "grid_template_areas": null,
            "grid_template_columns": null,
            "grid_template_rows": null,
            "height": null,
            "justify_content": null,
            "justify_items": null,
            "left": null,
            "margin": null,
            "max_height": null,
            "max_width": null,
            "min_height": null,
            "min_width": null,
            "object_fit": null,
            "object_position": null,
            "order": null,
            "overflow": null,
            "overflow_x": null,
            "overflow_y": null,
            "padding": null,
            "right": null,
            "top": null,
            "visibility": null,
            "width": null
          }
        },
        "9a2c80cf5f2e4077976281fc9a91e052": {
          "model_module": "@jupyter-widgets/controls",
          "model_module_version": "1.5.0",
          "model_name": "HTMLModel",
          "state": {
            "_dom_classes": [],
            "_model_module": "@jupyter-widgets/controls",
            "_model_module_version": "1.5.0",
            "_model_name": "HTMLModel",
            "_view_count": null,
            "_view_module": "@jupyter-widgets/controls",
            "_view_module_version": "1.5.0",
            "_view_name": "HTMLView",
            "description": "",
            "description_tooltip": null,
            "layout": "IPY_MODEL_be87508cc63e4c549bd3adacdd197312",
            "placeholder": "​",
            "style": "IPY_MODEL_758a7415edd94c779f48584209d2c5bd",
            "value": " 29696/? [00:00&lt;00:00, 803284.31it/s]"
          }
        },
        "9e3f9eea8290489a8ddebade151da15a": {
          "model_module": "@jupyter-widgets/controls",
          "model_module_version": "1.5.0",
          "model_name": "DescriptionStyleModel",
          "state": {
            "_model_module": "@jupyter-widgets/controls",
            "_model_module_version": "1.5.0",
            "_model_name": "DescriptionStyleModel",
            "_view_count": null,
            "_view_module": "@jupyter-widgets/base",
            "_view_module_version": "1.2.0",
            "_view_name": "StyleView",
            "description_width": ""
          }
        },
        "a0ac27617974453185e0ad1648d30758": {
          "model_module": "@jupyter-widgets/controls",
          "model_module_version": "1.5.0",
          "model_name": "HBoxModel",
          "state": {
            "_dom_classes": [],
            "_model_module": "@jupyter-widgets/controls",
            "_model_module_version": "1.5.0",
            "_model_name": "HBoxModel",
            "_view_count": null,
            "_view_module": "@jupyter-widgets/controls",
            "_view_module_version": "1.5.0",
            "_view_name": "HBoxView",
            "box_style": "",
            "children": [
              "IPY_MODEL_50b0bf4a172141139c2da1cfa37f6908",
              "IPY_MODEL_7db27a9183be41eaaee20016fc82c38d",
              "IPY_MODEL_9a2c80cf5f2e4077976281fc9a91e052"
            ],
            "layout": "IPY_MODEL_031aa4a43f044b70b5cffd614bedc942"
          }
        },
        "a3949671a1804c9c960721345e18e63a": {
          "model_module": "@jupyter-widgets/controls",
          "model_module_version": "1.5.0",
          "model_name": "HTMLModel",
          "state": {
            "_dom_classes": [],
            "_model_module": "@jupyter-widgets/controls",
            "_model_module_version": "1.5.0",
            "_model_name": "HTMLModel",
            "_view_count": null,
            "_view_module": "@jupyter-widgets/controls",
            "_view_module_version": "1.5.0",
            "_view_name": "HTMLView",
            "description": "",
            "description_tooltip": null,
            "layout": "IPY_MODEL_bf72993208e744ca8647e381de5d9754",
            "placeholder": "​",
            "style": "IPY_MODEL_f2810e1c5db04364b8125bd54cdfc676",
            "value": ""
          }
        },
        "a39636f96cad44fea2518d77ea9d2491": {
          "model_module": "@jupyter-widgets/controls",
          "model_module_version": "1.5.0",
          "model_name": "HTMLModel",
          "state": {
            "_dom_classes": [],
            "_model_module": "@jupyter-widgets/controls",
            "_model_module_version": "1.5.0",
            "_model_name": "HTMLModel",
            "_view_count": null,
            "_view_module": "@jupyter-widgets/controls",
            "_view_module_version": "1.5.0",
            "_view_name": "HTMLView",
            "description": "",
            "description_tooltip": null,
            "layout": "IPY_MODEL_8dd09797a72c4e54bcbc252e27ea7030",
            "placeholder": "​",
            "style": "IPY_MODEL_9e3f9eea8290489a8ddebade151da15a",
            "value": " 5120/? [00:00&lt;00:00, 118621.26it/s]"
          }
        },
        "a76353482884494ea75f281c012f1dae": {
          "model_module": "@jupyter-widgets/base",
          "model_module_version": "1.2.0",
          "model_name": "LayoutModel",
          "state": {
            "_model_module": "@jupyter-widgets/base",
            "_model_module_version": "1.2.0",
            "_model_name": "LayoutModel",
            "_view_count": null,
            "_view_module": "@jupyter-widgets/base",
            "_view_module_version": "1.2.0",
            "_view_name": "LayoutView",
            "align_content": null,
            "align_items": null,
            "align_self": null,
            "border": null,
            "bottom": null,
            "display": null,
            "flex": null,
            "flex_flow": null,
            "grid_area": null,
            "grid_auto_columns": null,
            "grid_auto_flow": null,
            "grid_auto_rows": null,
            "grid_column": null,
            "grid_gap": null,
            "grid_row": null,
            "grid_template_areas": null,
            "grid_template_columns": null,
            "grid_template_rows": null,
            "height": null,
            "justify_content": null,
            "justify_items": null,
            "left": null,
            "margin": null,
            "max_height": null,
            "max_width": null,
            "min_height": null,
            "min_width": null,
            "object_fit": null,
            "object_position": null,
            "order": null,
            "overflow": null,
            "overflow_x": null,
            "overflow_y": null,
            "padding": null,
            "right": null,
            "top": null,
            "visibility": null,
            "width": null
          }
        },
        "a822d0fcd41e4c419b3fc9e715045a1c": {
          "model_module": "@jupyter-widgets/controls",
          "model_module_version": "1.5.0",
          "model_name": "HTMLModel",
          "state": {
            "_dom_classes": [],
            "_model_module": "@jupyter-widgets/controls",
            "_model_module_version": "1.5.0",
            "_model_name": "HTMLModel",
            "_view_count": null,
            "_view_module": "@jupyter-widgets/controls",
            "_view_module_version": "1.5.0",
            "_view_name": "HTMLView",
            "description": "",
            "description_tooltip": null,
            "layout": "IPY_MODEL_ef454b3fa0584ccaafe337f697bb2ab9",
            "placeholder": "​",
            "style": "IPY_MODEL_544e405582e84bc3a3dcbbda672fe02c",
            "value": ""
          }
        },
        "aafc4b01114348ab9870fcfb5e1c219b": {
          "model_module": "@jupyter-widgets/controls",
          "model_module_version": "1.5.0",
          "model_name": "DescriptionStyleModel",
          "state": {
            "_model_module": "@jupyter-widgets/controls",
            "_model_module_version": "1.5.0",
            "_model_name": "DescriptionStyleModel",
            "_view_count": null,
            "_view_module": "@jupyter-widgets/base",
            "_view_module_version": "1.2.0",
            "_view_name": "StyleView",
            "description_width": ""
          }
        },
        "b4d2935365594d49b9db4535caec972d": {
          "model_module": "@jupyter-widgets/controls",
          "model_module_version": "1.5.0",
          "model_name": "HBoxModel",
          "state": {
            "_dom_classes": [],
            "_model_module": "@jupyter-widgets/controls",
            "_model_module_version": "1.5.0",
            "_model_name": "HBoxModel",
            "_view_count": null,
            "_view_module": "@jupyter-widgets/controls",
            "_view_module_version": "1.5.0",
            "_view_name": "HBoxView",
            "box_style": "",
            "children": [
              "IPY_MODEL_a3949671a1804c9c960721345e18e63a",
              "IPY_MODEL_2e04e7539b1749fbbfc657c9b1fba6bd",
              "IPY_MODEL_f2bb1433856649fcb7d0ccca12fcb56f"
            ],
            "layout": "IPY_MODEL_7de02a55c66a463f9ed304631419a3c0"
          }
        },
        "be87508cc63e4c549bd3adacdd197312": {
          "model_module": "@jupyter-widgets/base",
          "model_module_version": "1.2.0",
          "model_name": "LayoutModel",
          "state": {
            "_model_module": "@jupyter-widgets/base",
            "_model_module_version": "1.2.0",
            "_model_name": "LayoutModel",
            "_view_count": null,
            "_view_module": "@jupyter-widgets/base",
            "_view_module_version": "1.2.0",
            "_view_name": "LayoutView",
            "align_content": null,
            "align_items": null,
            "align_self": null,
            "border": null,
            "bottom": null,
            "display": null,
            "flex": null,
            "flex_flow": null,
            "grid_area": null,
            "grid_auto_columns": null,
            "grid_auto_flow": null,
            "grid_auto_rows": null,
            "grid_column": null,
            "grid_gap": null,
            "grid_row": null,
            "grid_template_areas": null,
            "grid_template_columns": null,
            "grid_template_rows": null,
            "height": null,
            "justify_content": null,
            "justify_items": null,
            "left": null,
            "margin": null,
            "max_height": null,
            "max_width": null,
            "min_height": null,
            "min_width": null,
            "object_fit": null,
            "object_position": null,
            "order": null,
            "overflow": null,
            "overflow_x": null,
            "overflow_y": null,
            "padding": null,
            "right": null,
            "top": null,
            "visibility": null,
            "width": null
          }
        },
        "bf72993208e744ca8647e381de5d9754": {
          "model_module": "@jupyter-widgets/base",
          "model_module_version": "1.2.0",
          "model_name": "LayoutModel",
          "state": {
            "_model_module": "@jupyter-widgets/base",
            "_model_module_version": "1.2.0",
            "_model_name": "LayoutModel",
            "_view_count": null,
            "_view_module": "@jupyter-widgets/base",
            "_view_module_version": "1.2.0",
            "_view_name": "LayoutView",
            "align_content": null,
            "align_items": null,
            "align_self": null,
            "border": null,
            "bottom": null,
            "display": null,
            "flex": null,
            "flex_flow": null,
            "grid_area": null,
            "grid_auto_columns": null,
            "grid_auto_flow": null,
            "grid_auto_rows": null,
            "grid_column": null,
            "grid_gap": null,
            "grid_row": null,
            "grid_template_areas": null,
            "grid_template_columns": null,
            "grid_template_rows": null,
            "height": null,
            "justify_content": null,
            "justify_items": null,
            "left": null,
            "margin": null,
            "max_height": null,
            "max_width": null,
            "min_height": null,
            "min_width": null,
            "object_fit": null,
            "object_position": null,
            "order": null,
            "overflow": null,
            "overflow_x": null,
            "overflow_y": null,
            "padding": null,
            "right": null,
            "top": null,
            "visibility": null,
            "width": null
          }
        },
        "c1e4470b71f1489da34e0dd358e8fb51": {
          "model_module": "@jupyter-widgets/controls",
          "model_module_version": "1.5.0",
          "model_name": "ProgressStyleModel",
          "state": {
            "_model_module": "@jupyter-widgets/controls",
            "_model_module_version": "1.5.0",
            "_model_name": "ProgressStyleModel",
            "_view_count": null,
            "_view_module": "@jupyter-widgets/base",
            "_view_module_version": "1.2.0",
            "_view_name": "StyleView",
            "bar_color": null,
            "description_width": ""
          }
        },
        "c25f0aec954247deb5c75930480c69f9": {
          "model_module": "@jupyter-widgets/controls",
          "model_module_version": "1.5.0",
          "model_name": "HBoxModel",
          "state": {
            "_dom_classes": [],
            "_model_module": "@jupyter-widgets/controls",
            "_model_module_version": "1.5.0",
            "_model_name": "HBoxModel",
            "_view_count": null,
            "_view_module": "@jupyter-widgets/controls",
            "_view_module_version": "1.5.0",
            "_view_name": "HBoxView",
            "box_style": "",
            "children": [
              "IPY_MODEL_7cd3f05e353a4418a372b6e288e0c701",
              "IPY_MODEL_8272456f69404194ab27b54873e2653f",
              "IPY_MODEL_291d4dc1a0cb447fad575eb583936bc8"
            ],
            "layout": "IPY_MODEL_e66daabd77f742b997ab61e998191a76"
          }
        },
        "d3bd6ac0e2da43d385aa7b6a389395cc": {
          "model_module": "@jupyter-widgets/base",
          "model_module_version": "1.2.0",
          "model_name": "LayoutModel",
          "state": {
            "_model_module": "@jupyter-widgets/base",
            "_model_module_version": "1.2.0",
            "_model_name": "LayoutModel",
            "_view_count": null,
            "_view_module": "@jupyter-widgets/base",
            "_view_module_version": "1.2.0",
            "_view_name": "LayoutView",
            "align_content": null,
            "align_items": null,
            "align_self": null,
            "border": null,
            "bottom": null,
            "display": null,
            "flex": null,
            "flex_flow": null,
            "grid_area": null,
            "grid_auto_columns": null,
            "grid_auto_flow": null,
            "grid_auto_rows": null,
            "grid_column": null,
            "grid_gap": null,
            "grid_row": null,
            "grid_template_areas": null,
            "grid_template_columns": null,
            "grid_template_rows": null,
            "height": null,
            "justify_content": null,
            "justify_items": null,
            "left": null,
            "margin": null,
            "max_height": null,
            "max_width": null,
            "min_height": null,
            "min_width": null,
            "object_fit": null,
            "object_position": null,
            "order": null,
            "overflow": null,
            "overflow_x": null,
            "overflow_y": null,
            "padding": null,
            "right": null,
            "top": null,
            "visibility": null,
            "width": null
          }
        },
        "db2925eded7d405bae93bc1d1890d687": {
          "model_module": "@jupyter-widgets/base",
          "model_module_version": "1.2.0",
          "model_name": "LayoutModel",
          "state": {
            "_model_module": "@jupyter-widgets/base",
            "_model_module_version": "1.2.0",
            "_model_name": "LayoutModel",
            "_view_count": null,
            "_view_module": "@jupyter-widgets/base",
            "_view_module_version": "1.2.0",
            "_view_name": "LayoutView",
            "align_content": null,
            "align_items": null,
            "align_self": null,
            "border": null,
            "bottom": null,
            "display": null,
            "flex": null,
            "flex_flow": null,
            "grid_area": null,
            "grid_auto_columns": null,
            "grid_auto_flow": null,
            "grid_auto_rows": null,
            "grid_column": null,
            "grid_gap": null,
            "grid_row": null,
            "grid_template_areas": null,
            "grid_template_columns": null,
            "grid_template_rows": null,
            "height": null,
            "justify_content": null,
            "justify_items": null,
            "left": null,
            "margin": null,
            "max_height": null,
            "max_width": null,
            "min_height": null,
            "min_width": null,
            "object_fit": null,
            "object_position": null,
            "order": null,
            "overflow": null,
            "overflow_x": null,
            "overflow_y": null,
            "padding": null,
            "right": null,
            "top": null,
            "visibility": null,
            "width": null
          }
        },
        "e66daabd77f742b997ab61e998191a76": {
          "model_module": "@jupyter-widgets/base",
          "model_module_version": "1.2.0",
          "model_name": "LayoutModel",
          "state": {
            "_model_module": "@jupyter-widgets/base",
            "_model_module_version": "1.2.0",
            "_model_name": "LayoutModel",
            "_view_count": null,
            "_view_module": "@jupyter-widgets/base",
            "_view_module_version": "1.2.0",
            "_view_name": "LayoutView",
            "align_content": null,
            "align_items": null,
            "align_self": null,
            "border": null,
            "bottom": null,
            "display": null,
            "flex": null,
            "flex_flow": null,
            "grid_area": null,
            "grid_auto_columns": null,
            "grid_auto_flow": null,
            "grid_auto_rows": null,
            "grid_column": null,
            "grid_gap": null,
            "grid_row": null,
            "grid_template_areas": null,
            "grid_template_columns": null,
            "grid_template_rows": null,
            "height": null,
            "justify_content": null,
            "justify_items": null,
            "left": null,
            "margin": null,
            "max_height": null,
            "max_width": null,
            "min_height": null,
            "min_width": null,
            "object_fit": null,
            "object_position": null,
            "order": null,
            "overflow": null,
            "overflow_x": null,
            "overflow_y": null,
            "padding": null,
            "right": null,
            "top": null,
            "visibility": null,
            "width": null
          }
        },
        "eb75157fa9e145c7a44aa8e3227a3f5b": {
          "model_module": "@jupyter-widgets/controls",
          "model_module_version": "1.5.0",
          "model_name": "DescriptionStyleModel",
          "state": {
            "_model_module": "@jupyter-widgets/controls",
            "_model_module_version": "1.5.0",
            "_model_name": "DescriptionStyleModel",
            "_view_count": null,
            "_view_module": "@jupyter-widgets/base",
            "_view_module_version": "1.2.0",
            "_view_name": "StyleView",
            "description_width": ""
          }
        },
        "ef454b3fa0584ccaafe337f697bb2ab9": {
          "model_module": "@jupyter-widgets/base",
          "model_module_version": "1.2.0",
          "model_name": "LayoutModel",
          "state": {
            "_model_module": "@jupyter-widgets/base",
            "_model_module_version": "1.2.0",
            "_model_name": "LayoutModel",
            "_view_count": null,
            "_view_module": "@jupyter-widgets/base",
            "_view_module_version": "1.2.0",
            "_view_name": "LayoutView",
            "align_content": null,
            "align_items": null,
            "align_self": null,
            "border": null,
            "bottom": null,
            "display": null,
            "flex": null,
            "flex_flow": null,
            "grid_area": null,
            "grid_auto_columns": null,
            "grid_auto_flow": null,
            "grid_auto_rows": null,
            "grid_column": null,
            "grid_gap": null,
            "grid_row": null,
            "grid_template_areas": null,
            "grid_template_columns": null,
            "grid_template_rows": null,
            "height": null,
            "justify_content": null,
            "justify_items": null,
            "left": null,
            "margin": null,
            "max_height": null,
            "max_width": null,
            "min_height": null,
            "min_width": null,
            "object_fit": null,
            "object_position": null,
            "order": null,
            "overflow": null,
            "overflow_x": null,
            "overflow_y": null,
            "padding": null,
            "right": null,
            "top": null,
            "visibility": null,
            "width": null
          }
        },
        "efa12fe4ab6b409fb51601795e4e2ed3": {
          "model_module": "@jupyter-widgets/controls",
          "model_module_version": "1.5.0",
          "model_name": "HBoxModel",
          "state": {
            "_dom_classes": [],
            "_model_module": "@jupyter-widgets/controls",
            "_model_module_version": "1.5.0",
            "_model_name": "HBoxModel",
            "_view_count": null,
            "_view_module": "@jupyter-widgets/controls",
            "_view_module_version": "1.5.0",
            "_view_name": "HBoxView",
            "box_style": "",
            "children": [
              "IPY_MODEL_a822d0fcd41e4c419b3fc9e715045a1c",
              "IPY_MODEL_94639018d3e74b3ba0304715ad5f5bd8",
              "IPY_MODEL_a39636f96cad44fea2518d77ea9d2491"
            ],
            "layout": "IPY_MODEL_a76353482884494ea75f281c012f1dae"
          }
        },
        "f2810e1c5db04364b8125bd54cdfc676": {
          "model_module": "@jupyter-widgets/controls",
          "model_module_version": "1.5.0",
          "model_name": "DescriptionStyleModel",
          "state": {
            "_model_module": "@jupyter-widgets/controls",
            "_model_module_version": "1.5.0",
            "_model_name": "DescriptionStyleModel",
            "_view_count": null,
            "_view_module": "@jupyter-widgets/base",
            "_view_module_version": "1.2.0",
            "_view_name": "StyleView",
            "description_width": ""
          }
        },
        "f2bb1433856649fcb7d0ccca12fcb56f": {
          "model_module": "@jupyter-widgets/controls",
          "model_module_version": "1.5.0",
          "model_name": "HTMLModel",
          "state": {
            "_dom_classes": [],
            "_model_module": "@jupyter-widgets/controls",
            "_model_module_version": "1.5.0",
            "_model_name": "HTMLModel",
            "_view_count": null,
            "_view_module": "@jupyter-widgets/controls",
            "_view_module_version": "1.5.0",
            "_view_name": "HTMLView",
            "description": "",
            "description_tooltip": null,
            "layout": "IPY_MODEL_988cdf5a93244b8da193289c0e54d43d",
            "placeholder": "​",
            "style": "IPY_MODEL_aafc4b01114348ab9870fcfb5e1c219b",
            "value": " 1649664/? [00:00&lt;00:00, 18420135.44it/s]"
          }
        },
        "f2d14c93737d49809c0e993ee0d843c5": {
          "model_module": "@jupyter-widgets/controls",
          "model_module_version": "1.5.0",
          "model_name": "ProgressStyleModel",
          "state": {
            "_model_module": "@jupyter-widgets/controls",
            "_model_module_version": "1.5.0",
            "_model_name": "ProgressStyleModel",
            "_view_count": null,
            "_view_module": "@jupyter-widgets/base",
            "_view_module_version": "1.2.0",
            "_view_name": "StyleView",
            "bar_color": null,
            "description_width": ""
          }
        },
        "fd4defde78e640988f7d999375a7ac5c": {
          "model_module": "@jupyter-widgets/controls",
          "model_module_version": "1.5.0",
          "model_name": "ProgressStyleModel",
          "state": {
            "_model_module": "@jupyter-widgets/controls",
            "_model_module_version": "1.5.0",
            "_model_name": "ProgressStyleModel",
            "_view_count": null,
            "_view_module": "@jupyter-widgets/base",
            "_view_module_version": "1.2.0",
            "_view_name": "StyleView",
            "bar_color": null,
            "description_width": ""
          }
        }
      }
    }
  },
  "nbformat": 4,
  "nbformat_minor": 0
}
