{
 "cells": [
  {
   "cell_type": "markdown",
   "metadata": {},
   "source": [
    "<div align=center>\n",
    "\t\t\n",
    "<p></p>\n",
    "<p></p>\n",
    "<font size=5>\n",
    "In the Name of God\n",
    "<font/>\n",
    "<p></p>\n",
    " <br/>\n",
    "    <br/>\n",
    "    <br/>\n",
    "<font color=#FF7500>\n",
    "Sharif University of Technology - Department of Computer Engineering\n",
    "</font>\n",
    "<p></p>\n",
    "<font color=blue>\n",
    "Artifical Intelligence - Dr. Mohammad Hossein Rohban\n",
    "</font>\n",
    "<br/>\n",
    "<br/>\n",
    "Fall 2021\n",
    "\n",
    "</div>\n",
    "\n",
    "<hr/>\n",
    "\t\t<div align=center>\n",
    "\t\t    <font color=red size=6>\n",
    "\t\t\t    <br />\n",
    "Practical Assignment 2\n",
    "            \t<br/>\n",
    "\t\t\t</font>\n",
    "    <br/>\n",
    "    <br/>\n",
    "<font size=4>\n",
    "\t\t\t<br/><br/>\n",
    "Deadline:  Aban 27th\n",
    "                <br/><b>\n",
    "              Cheating is Strongly Prohibited\n",
    "                </b><br/><br/>\n",
    "                <font color=red>\n",
    "Please run all the cells.\n",
    "     </font>\n",
    "</font>\n",
    "                <br/>\n",
    "    </div>"
   ]
  },
  {
   "cell_type": "markdown",
   "metadata": {},
   "source": [
    "# Personal Data"
   ]
  },
  {
   "cell_type": "code",
   "execution_count": 4,
   "metadata": {
    "collectable": true,
    "execution": {
     "iopub.execute_input": "2021-10-01T16:01:36.762477Z",
     "iopub.status.busy": "2021-10-01T16:01:36.762155Z",
     "iopub.status.idle": "2021-10-01T16:01:36.764025Z",
     "shell.execute_reply": "2021-10-01T16:01:36.763754Z"
    }
   },
   "outputs": [],
   "source": [
    "# Set your student number\n",
    "student_number = 98103867\n",
    "Name = 'Mohammad'\n",
    "Last_Name = 'Abolnejadian'"
   ]
  },
  {
   "cell_type": "markdown",
   "metadata": {},
   "source": [
    "# Rules\n",
    "- You are not allowed to add or remove cells. You **must use the provided space to write your code**. If you don't follow this rule, **your Practical Assignment won't be graded**. \n",
    "- There is one cell for your custom functions (if you need any) at the beginning of each question. Please note that this jupyter file might be broken down into 3 jupyter notebooks for easier grading, so you **must write your custom functions in the correct cell**.\n",
    "- By running the cell below, you can see if your jupyter file is accepted or not. This cell will also **generate a python file which you'll have to upload to Quera** (as well as your jupyter file). The python file will later be validated and if the code in both files doesn't match, **your Practical Assignment won't be graded**.\n",
    "- This assignment is due Aban 27th 23:59:59. you can use up to 10 grace days for this assignment and the hard deadline is Azar 7th 23:59:59."
   ]
  },
  {
   "cell_type": "code",
   "execution_count": 5,
   "metadata": {},
   "outputs": [
    {
     "name": "stdout",
     "output_type": "stream",
     "text": [
      "your jupyter file will be graded\n"
     ]
    }
   ],
   "source": [
    "# remember to save your jupyter file before running this script\n",
    "from Helper_codes.validator import *\n",
    "\n",
    "python_code = extract_python(\"./questions.ipynb\")\n",
    "with open(f'python_code_{student_number}.py', 'w') as file:\n",
    "    file.write(python_code)"
   ]
  },
  {
   "cell_type": "markdown",
   "metadata": {},
   "source": [
    "# Q1 (30 Points + 5 Extra Points)"
   ]
  },
  {
   "cell_type": "markdown",
   "metadata": {},
   "source": [
    "<font size=4>\n",
    "Author: Reza Amini\n",
    "\t\t\t<br/>\n",
    "                <font color=red>\n",
    "Please run all the cells.\n",
    "     </font>\n",
    "</font>\n",
    "                <br/>\n",
    "    </div>"
   ]
  },
  {
   "cell_type": "markdown",
   "metadata": {},
   "source": [
    "## Libraries"
   ]
  },
  {
   "cell_type": "code",
   "execution_count": 26,
   "metadata": {
    "collectable": true
   },
   "outputs": [],
   "source": [
    "import numpy as np\n",
    "from typing import Tuple\n",
    "from matplotlib import pyplot as plt\n",
    "import math"
   ]
  },
  {
   "cell_type": "markdown",
   "metadata": {},
   "source": [
    "<div>\n",
    "\t<font size=3>\n",
    "        <hr/>\n",
    "            In this part of the question, we want to implement the functions and draw diagrams and discuss about the convexity of functions\n",
    "           <hr/>\n",
    "    </font>\n",
    "</div>"
   ]
  },
  {
   "cell_type": "markdown",
   "metadata": {},
   "source": [
    "## Functions"
   ]
  },
  {
   "cell_type": "markdown",
   "metadata": {},
   "source": [
    "a)\n",
    "$f_1(x) = \\frac{x^2 cos(\\frac{x}{10}) - x}{100} \\quad $ where $\\quad x \\in [80, 110]$\n",
    "<br/>\n",
    "b)\n",
    "$f_2(x) = \\log (\\sqrt{sin \\frac{x}{20}}) \\quad $ where $\\quad x \\in [1, 60]$\n",
    "<br/>\n",
    "c)\n",
    "$f_3(x) = \\log (\\cos(x) + \\frac{45}{x}) \\quad $ where $\\quad x \\in [1, 45]$"
   ]
  },
  {
   "cell_type": "markdown",
   "metadata": {},
   "source": [
    "<div>\n",
    "    <font size=3>\n",
    "In the first step, implement the functions.\n",
    "     </font>\n",
    "</div>"
   ]
  },
  {
   "cell_type": "code",
   "execution_count": 27,
   "metadata": {
    "collectable": true
   },
   "outputs": [],
   "source": [
    "def f_1(x):\n",
    "    return ((pow(x, 2) * math.cos(x/10) - x) / (100))"
   ]
  },
  {
   "cell_type": "code",
   "execution_count": 28,
   "metadata": {
    "collectable": true
   },
   "outputs": [],
   "source": [
    "def f_2(x):\n",
    "    return (math.log(pow(math.sin(x/20), 1/2)))"
   ]
  },
  {
   "cell_type": "code",
   "execution_count": 29,
   "metadata": {
    "collectable": true
   },
   "outputs": [],
   "source": [
    "def f_3(x):\n",
    "    return (math.log(math.cos(x)+(45/x)))"
   ]
  },
  {
   "cell_type": "markdown",
   "metadata": {},
   "source": [
    "<div>\n",
    "    <font size=3>\n",
    "    Now implement a function to plot the mathematical functions\n",
    "     </font>\n",
    "</div>"
   ]
  },
  {
   "cell_type": "code",
   "execution_count": 30,
   "metadata": {
    "collectable": true
   },
   "outputs": [],
   "source": [
    "def draw(func, x_range):\n",
    "    results = list()\n",
    "    xs = list()\n",
    "    for x in x_range:\n",
    "        results.append(func(x))\n",
    "        xs.append(x)\n",
    "    plt.plot(xs, results)\n",
    "    plt.xlabel(\"x\")\n",
    "    plt.ylabel(\"y\")\n",
    "    plt.show()\n",
    "    pass"
   ]
  },
  {
   "cell_type": "code",
   "execution_count": 31,
   "metadata": {},
   "outputs": [
    {
     "data": {
      "image/png": "[encoded data removed]",
      "text/plain": [
       "<Figure size 432x288 with 1 Axes>"
      ]
     },
     "metadata": {
      "needs_background": "light"
     },
     "output_type": "display_data"
    }
   ],
   "source": [
    "draw(f_1, np.arange(80, 110 + 1))"
   ]
  },
  {
   "cell_type": "code",
   "execution_count": 32,
   "metadata": {},
   "outputs": [
    {
     "data": {
      "image/png": "[encoded data removed]",
      "text/plain": [
       "<Figure size 432x288 with 1 Axes>"
      ]
     },
     "metadata": {
      "needs_background": "light"
     },
     "output_type": "display_data"
    }
   ],
   "source": [
    "draw(f_2, np.arange(1, 60 + 1))"
   ]
  },
  {
   "cell_type": "code",
   "execution_count": 33,
   "metadata": {},
   "outputs": [
    {
     "data": {
      "image/png": "[encoded data removed]",
      "text/plain": [
       "<Figure size 432x288 with 1 Axes>"
      ]
     },
     "metadata": {
      "needs_background": "light"
     },
     "output_type": "display_data"
    }
   ],
   "source": [
    "draw(f_3, np.arange(1, 45 + 1))"
   ]
  },
  {
   "cell_type": "markdown",
   "metadata": {},
   "source": [
    "<div>\n",
    "    <font size=3>\n",
    "    Discuss the Convexity of each function according to the diagrams\n",
    "     </font>\n",
    "</div>"
   ]
  },
  {
   "cell_type": "markdown",
   "metadata": {},
   "source": [
    "<font color=blue>\n",
    "    (5 Points) <br/>\n",
    "</font>\n",
    "<font color=orange>\n",
    "    The first function is <font color=red>convex</font> (over the given domain) since its slope is always increasing (has a positive second derivative) and it has a global minima.<br/>\n",
    "    The second function is <font color=red>concave</font> (over the given domain) since its slope is always decreasing (has a negative second derivative) and it has a global maxima.<br/>\n",
    "    But for the third function, we can't decide wether the function, over the given domain, is convex or concave; Because it has many local maxima and minimas.<br/>\n",
    "</font>\n"
   ]
  },
  {
   "cell_type": "markdown",
   "metadata": {},
   "source": [
    "<div>\n",
    "    <font size=3>\n",
    "what method do you suggest to find the maximum in the second function?\n",
    "     </font>\n",
    "</div>"
   ]
  },
  {
   "cell_type": "markdown",
   "metadata": {},
   "source": [
    "<font color=blue>\n",
    "    (3 Points) <br/>\n",
    "</font>\n",
    "<font color=orange>\n",
    "I suggest two methods here. One mathematical and the other is practical. <br/>\n",
    "The mathematical approach is to calculate the x which makes the derivative of the function equal to zero. That is the point that we are trying to find (Since the slope of the function is zero in the maximum point).<br/>\n",
    "The practical solution is to use the <font color=red>gradient descent</font>  algorithm. We can define a new function h(x) = -f_2(x). Since h(x) is a convex function, we can use gradient descent to find the minimum point of h(x). This point is also the maximum point of f_2(x). So we can use this algorithm to find the maximum of the function.\n",
    "</font>\n"
   ]
  },
  {
   "cell_type": "markdown",
   "metadata": {},
   "source": [
    "<div>\n",
    "    <font size=3>\n",
    "        <hr/>\n",
    "        <ul>\n",
    "            In this part, we want to obtain a minimum of one of the above functions with the gradiant descent algorithm\n",
    "        </ul>  \n",
    "        <hr/>\n",
    "    </font>\n",
    "</div>"
   ]
  },
  {
   "cell_type": "markdown",
   "metadata": {},
   "source": [
    "## Gradiant descent"
   ]
  },
  {
   "cell_type": "markdown",
   "metadata": {},
   "source": [
    "<div>\n",
    "    <font size=3>\n",
    "    Complete gradiant descent function and calculate the minimum of function (a).\n",
    "     </font>\n",
    "</div>"
   ]
  },
  {
   "cell_type": "code",
   "execution_count": 34,
   "metadata": {
    "collectable": true
   },
   "outputs": [],
   "source": [
    "def gradiant_descent(func, initial_point: float, learning_rate: float, max_iterations: int):\n",
    "    h = 0.0001\n",
    "    x = initial_point\n",
    "    for _ in range(max_iterations):\n",
    "        x = x - learning_rate * (func(x+h) - func(x)) / h\n",
    "    return f_1(x)"
   ]
  },
  {
   "cell_type": "code",
   "execution_count": 35,
   "metadata": {},
   "outputs": [
    {
     "data": {
      "text/plain": [
       "-91.75390377283306"
      ]
     },
     "execution_count": 35,
     "metadata": {},
     "output_type": "execute_result"
    }
   ],
   "source": [
    "gradiant_descent(\n",
    "    func=f_1, \n",
    "    initial_point=np.random.uniform(80, 110), \n",
    "    learning_rate=0.05, \n",
    "    max_iterations=1000\n",
    ")"
   ]
  },
  {
   "cell_type": "markdown",
   "metadata": {},
   "source": [
    "<div>\n",
    "    <font size=3>\n",
    "In the last part, we want to investigate the effect of the learning rate hyperparameter on the gradiant descent algorithm with a new function     \n",
    "    </font>\n",
    "</div>"
   ]
  },
  {
   "cell_type": "markdown",
   "metadata": {},
   "source": [
    "## Function"
   ]
  },
  {
   "cell_type": "markdown",
   "metadata": {},
   "source": [
    "$f(x_1, x_2) = 2x_1^2 + 3x_2^2 - 4x_1x_2 - 50x_1 + 6x_2$"
   ]
  },
  {
   "cell_type": "code",
   "execution_count": 36,
   "metadata": {
    "collectable": true
   },
   "outputs": [],
   "source": [
    "def f(x_1, x_2):\n",
    "    return (2 * pow(x_1, 2) + 3 * pow(x_2, 2) - 4 * x_1 * x_2 - 50 * x_1 + 6 * x_2)"
   ]
  },
  {
   "cell_type": "markdown",
   "metadata": {},
   "source": [
    "<div>\n",
    "    <font size=3>\n",
    "Implement gradiant descent function for two-dimensional functions, in such a way that it gives sequence of x_1 and x_2 in the output ()\n",
    "    </font>\n",
    "</div>"
   ]
  },
  {
   "cell_type": "code",
   "execution_count": 37,
   "metadata": {
    "collectable": true
   },
   "outputs": [],
   "source": [
    "def gradiant_descent(func, initial_point: Tuple, learning_rate: float, threshold: float, max_iterations: int):\n",
    "    x_1_sequence = [initial_point[0]]\n",
    "    x_2_sequence = [initial_point[1]]\n",
    "    \n",
    "    # Threshold: if either the value of x1 or x2 is greater than this value, the algorithm ends\n",
    "    # implement your function\n",
    "    ############################################################\n",
    "    # (9 Points)                                              #\n",
    "    ############################################################\n",
    "    x_1 = initial_point[0]\n",
    "    x_2 = initial_point[1]\n",
    "    for _ in range(max_iterations):\n",
    "        x_1, x_2 = update_points(func, x_1, x_2, learning_rate)\n",
    "        if x_1 > threshold or x_2 > threshold:\n",
    "            break\n",
    "        x_1_sequence.append(x_1)\n",
    "        x_2_sequence.append(x_2)\n",
    "    return x_1_sequence, x_2_sequence\n",
    "\n",
    "def update_points(func, x_1, x_2, learning_rate):\n",
    "    h = 0.000001\n",
    "    x_1 = x_1 - (learning_rate * (func(x_1 + h, x_2) - f(x_1, x_2)) / h)\n",
    "    x_2 = x_2 - (learning_rate * (func(x_1, x_2 + h) - f(x_1, x_2)) / h)\n",
    "    return x_1, x_2"
   ]
  },
  {
   "cell_type": "code",
   "execution_count": 38,
   "metadata": {},
   "outputs": [],
   "source": [
    "def draw_points_sequence(func, x_1_sequence, x_2_sequence):\n",
    "    X1, X2 = np.meshgrid(np.linspace(-100.0, 100.0, 100), np.linspace(-100.0, 100.0, 100))\n",
    "    Y = func(X1, X2)\n",
    "    cp = plt.contour(X1, X2, Y, colors='black', linestyles='dashed', linewidths=1)\n",
    "    plt.clabel(cp, inline=1, fontsize=10)\n",
    "    cp = plt.contourf(X1, X2, Y, )\n",
    "    plt.xlabel('X1')\n",
    "    plt.ylabel('X2')\n",
    "    plt.scatter(x_1_sequence, x_2_sequence, s=10, c=\"y\")\n",
    "    plt.show()"
   ]
  },
  {
   "cell_type": "markdown",
   "metadata": {},
   "source": [
    "<div>\n",
    "    <font size=3>\n",
    "    Run the gradiant descent algorithm for each of the learning rate values and use the above function to draw diagram\n",
    "    </font>\n",
    "</div>"
   ]
  },
  {
   "cell_type": "code",
   "execution_count": 39,
   "metadata": {},
   "outputs": [],
   "source": [
    "initial_point = (-100, 100)\n",
    "learning_rates = [0.01, 0.05, 0.19, 0.4]\n",
    "threshold = 100\n",
    "max_iterations = 1000"
   ]
  },
  {
   "cell_type": "code",
   "execution_count": 40,
   "metadata": {
    "collectable": true
   },
   "outputs": [
    {
     "data": {
      "image/png": "[encoded data removed]",
      "text/plain": [
       "<Figure size 432x288 with 1 Axes>"
      ]
     },
     "metadata": {
      "needs_background": "light"
     },
     "output_type": "display_data"
    }
   ],
   "source": [
    "# learning rate 0.01\n",
    "    \n",
    "x_1_seqs, x_2_seqs = gradiant_descent(f, initial_point, learning_rates[0], threshold, max_iterations)\n",
    "draw_points_sequence(f, x_1_seqs, x_2_seqs)"
   ]
  },
  {
   "cell_type": "code",
   "execution_count": 41,
   "metadata": {
    "collectable": true
   },
   "outputs": [
    {
     "data": {
      "image/png": "[encoded data removed]",
      "text/plain": [
       "<Figure size 432x288 with 1 Axes>"
      ]
     },
     "metadata": {
      "needs_background": "light"
     },
     "output_type": "display_data"
    }
   ],
   "source": [
    "# learning rate 0.05\n",
    "\n",
    "x_1_seqs, x_2_seqs = gradiant_descent(f, initial_point, learning_rates[1], threshold, max_iterations)\n",
    "draw_points_sequence(f, x_1_seqs, x_2_seqs)"
   ]
  },
  {
   "cell_type": "code",
   "execution_count": 42,
   "metadata": {
    "collectable": true
   },
   "outputs": [
    {
     "data": {
      "image/png": "[encoded data removed]",
      "text/plain": [
       "<Figure size 432x288 with 1 Axes>"
      ]
     },
     "metadata": {
      "needs_background": "light"
     },
     "output_type": "display_data"
    }
   ],
   "source": [
    "# learning rate 0.19\n",
    "    \n",
    "x_1_seqs, x_2_seqs = gradiant_descent(f, initial_point, learning_rates[2], threshold, max_iterations)\n",
    "draw_points_sequence(f, x_1_seqs, x_2_seqs)"
   ]
  },
  {
   "cell_type": "code",
   "execution_count": 43,
   "metadata": {
    "collectable": true
   },
   "outputs": [
    {
     "data": {
      "image/png": "[encoded data removed]",
      "text/plain": [
       "<Figure size 432x288 with 1 Axes>"
      ]
     },
     "metadata": {
      "needs_background": "light"
     },
     "output_type": "display_data"
    }
   ],
   "source": [
    "# learning rate 0.4\n",
    "    \n",
    "x_1_seqs, x_2_seqs = gradiant_descent(f, initial_point, learning_rates[3], threshold, max_iterations)\n",
    "draw_points_sequence(f, x_1_seqs, x_2_seqs)"
   ]
  },
  {
   "cell_type": "markdown",
   "metadata": {},
   "source": [
    "<div>\n",
    "    <font size=3>\n",
    "    explain your result comprehensively from the charts, \n",
    "    </font>\n",
    "</div>"
   ]
  },
  {
   "cell_type": "markdown",
   "metadata": {
    "collectable": true
   },
   "source": [
    "<font color=blue>\n",
    "    (6 Points)</font> <br/>\n",
    "    <font color=orange> \n",
    "The first and second learning rates are small enough not to miss the minimum point. The second learning rate is a little bit better since it can get us to the minimum point sooner and with less iterations.<br/>\n",
    "The third learning rate is on the edge of missing the point, but it still gives us the minimum point.<br/>\n",
    "But the forth learning rate(0.4) is so big that it misses the minimum point and it is a bad learning rate to install. So we shouldn't use such a big learning rate like 0.4 for this problem.<br/>\n",
    "As we proved in class, for Gradient Descent algorithm to work properly, the learning should be <font color=red>small enough</font>. So the first two learning rates are properly small to give us the minimum\n",
    "</font>"
   ]
  },
  {
   "cell_type": "markdown",
   "metadata": {},
   "source": [
    "# Q2. CSPs (30 Points)"
   ]
  },
  {
   "cell_type": "markdown",
   "metadata": {},
   "source": [
    "<font size=4>\n",
    "     Author: Alireza Tajmirriahi\n",
    "     <br/>\n",
    "     <font color=red>\n",
    "     Please run all the cells.\n",
    "     </font>\n",
    "</font>\n",
    "<br/>"
   ]
  },
  {
   "cell_type": "markdown",
   "metadata": {},
   "source": [
    "As students are preparing for midterm exams and the virtual exam days are gone and forgotten, each department is struggling to select at least one hall out of $N$ halls in the university to hold their exams. But here's the thing:\n",
    "  - Students from each department aren't really fond of sitting next to students from other departments and must be separated (for example CE students and CS students must not share the same hall for exams).\n",
    "  - Each department likes certain halls and won't hold their exams in other halls.\n",
    "  - Sadly, the exit doors in some of the halls are stuck and the hard working staff have provided some routes so that the students from specific halls need to walk through the other hall and exit after the examination. And because they would like to prevent cheating as much as possible, students in such halls cannot be from the same department.\n",
    "Check out the example below to fully understand the situation."
   ]
  },
  {
   "cell_type": "markdown",
   "metadata": {},
   "source": [
    "## Example\n",
    "Look at this picture carefully.<br>\n",
    "<img src=\"Images/CSP_example.png\" width=\"400\"/>\n",
    "  - There are $6$ halls and $3$ departments.\n",
    "  - The halls which the deparments like are indicated (for example, CE exams can be held only at Hall 1, 4 and 6).\n",
    "  - Students from Hall 1 should exit using the doors in Hall 2 (Note: they all exit there and won't continue to Hall 3). In this case, EE students cannot be in both Hall 1 and 2 (But of course, it's okay for them to be in Hall 1 and 3)."
   ]
  },
  {
   "cell_type": "markdown",
   "metadata": {},
   "source": [
    "## Note\n",
    "  - You _must_ implement and use AC-3 algorithm.\n",
    "  - You will _probably_ need to utilize the heuristic algorithms you have learned (e.g. MRV and LCV) or consider nearly tree-structured graphs approach in order to pass all tests in an appropriate time."
   ]
  },
  {
   "cell_type": "markdown",
   "metadata": {},
   "source": [
    "## Input\n",
    "  - The first line consists of $N$ (count of halls) and $M$ (count of departments).\n",
    "  - In the following $M$ lines, the $i$ th line ($1 \\le i \\le M$) is a list of preferred halls for the $i$ th department (separated by space).\n",
    "  - In the next line, $E$, the total number of exit constraints (edges in the previous graph) are given.\n",
    "  - in each of the following $E$ lines, a pair of hall numbers (separated by space) is given (reminder: the direction is important).\n",
    "$$1 \\le N \\le 50$$\n",
    "$$1 \\le M \\le 50$$\n",
    "\n",
    "### Sample Input\n",
    "This sample describes the previous example (CE=1, EE=2, ME=3).\n",
    "```\n",
    "6 3\n",
    "1 4 6\n",
    "1 2 3 5 6\n",
    "3 4 5\n",
    "5\n",
    "1 2\n",
    "2 3\n",
    "3 4\n",
    "3 5\n",
    "3 6\n",
    "```"
   ]
  },
  {
   "cell_type": "markdown",
   "metadata": {},
   "source": [
    "## Output\n",
    "In the only line, print:\n",
    "  - list of one appropriate assignment ordered by hall number (separated by space).\n",
    "  - `NO` if there isn't.\n",
    "\n",
    "### Sample Output\n",
    "One possible solution to the example above is {Hall1=CE, Hall2=EE , Hall3=ME, Hall4=CE, Hall5=EE, Hall6=EE}. So:\n",
    "```\n",
    "1 2 3 1 2 2\n",
    "```\n",
    "In another example, If Hall3 was not an option for ME, then the answer would be:\n",
    "```\n",
    "NO\n",
    "```\n",
    "Because then hall 2 or 3 would be empty."
   ]
  },
  {
   "cell_type": "markdown",
   "metadata": {},
   "source": [
    "## Your code\n",
    "**Note:** It's OK to change the signature for the given functions and the given structure is just a suggestion to help you with the implementation. (you can't remove or add any cells based on the **Rules** section)"
   ]
  },
  {
   "cell_type": "code",
   "execution_count": 21,
   "metadata": {
    "collectable": true
   },
   "outputs": [],
   "source": [
    "\n",
    "def initialize_nodes(n, m, values):\n",
    "    variables = []\n",
    "    for _ in range(n):\n",
    "        variables.append([])\n",
    "    i = 1\n",
    "    for halls_list in values:\n",
    "        for hall in halls_list:\n",
    "            variables[hall - 1].append(i)\n",
    "        i += 1\n",
    "    return variables\n",
    "def initialize_edges(e, edges_input):\n",
    "    edges = []\n",
    "    for edge in edges_input:\n",
    "        edges.append(edge)\n",
    "    return edges\n",
    "\n",
    "def initialize_variable_neighbors(n, edges_input):\n",
    "    variable_neighbors = []\n",
    "    for _ in range(n):\n",
    "        variable_neighbors.append([])\n",
    "    for edge in edges_input:\n",
    "        variable_neighbors[edge[0] - 1].append(edge[1])\n",
    "        variable_neighbors[edge[1] - 1].append(edge[0])\n",
    "    return variable_neighbors"
   ]
  },
  {
   "cell_type": "code",
   "execution_count": 22,
   "metadata": {
    "collectable": true
   },
   "outputs": [],
   "source": [
    "def ac_3(variables, edges):\n",
    "    \n",
    "    edges_queue = edges.copy()\n",
    "    while len(edges_queue) > 0:\n",
    "        edge = edges_queue.pop(0)\n",
    "        node_one = edge[0] - 1\n",
    "        node_two = edge[1] - 1\n",
    "        node_one_values = variables[node_one]\n",
    "        node_two_values = variables[node_two]\n",
    "\n",
    "        removed_inconsistancy = False\n",
    "        for one_value in node_one_values:\n",
    "            consistant = False\n",
    "            for two_value in node_two_values:\n",
    "                if two_value != one_value:\n",
    "                    consistant = True\n",
    "                    break\n",
    "            if not consistant:\n",
    "                node_one_values.remove(one_value)\n",
    "                removed_inconsistancy = True\n",
    "        \n",
    "        if removed_inconsistancy:\n",
    "            for edge in edges:\n",
    "                if edge[1] == node_one:\n",
    "                    edges_queue.append(edge)\n",
    "\n",
    "        "
   ]
  },
  {
   "cell_type": "code",
   "execution_count": 23,
   "metadata": {
    "collectable": true
   },
   "outputs": [],
   "source": [
    "def backtrack(variables, variable_neighbors, assignment, var_index):\n",
    "    \n",
    "    if not (0 in assignment):\n",
    "        return assignment\n",
    "    if len(variables) <= 0:\n",
    "        return \"NO\"\n",
    "    variable = variables.pop()\n",
    "    for value in variable:\n",
    "        neighbors = variable_neighbors[var_index]\n",
    "        consistant = True\n",
    "        for neighbor in neighbors:\n",
    "            if (assignment[neighbor - 1] == value):\n",
    "                consistant = False\n",
    "                break\n",
    "        if consistant:\n",
    "            assignment[var_index] = value\n",
    "            result = backtrack(variables, variable_neighbors, assignment, var_index - 1)\n",
    "            if result != \"NO\":\n",
    "                return result\n",
    "            assignment[var_index] = 0\n",
    "    return \"NO\"\n",
    "\n",
    "    \n",
    "\n",
    "def backtracking_search(variables, edges, variable_neighbors):\n",
    "    \n",
    "    ac_3(variables, edges)\n",
    "    assignment = []\n",
    "    for _ in variables:\n",
    "        assignment.append(0)\n",
    "    return backtrack(variables, variable_neighbors, assignment, len(variables) - 1)"
   ]
  },
  {
   "cell_type": "code",
   "execution_count": 24,
   "metadata": {},
   "outputs": [
    {
     "name": "stdout",
     "output_type": "stream",
     "text": [
      "Score = 100.0%\n"
     ]
    }
   ],
   "source": [
    "import Helper_codes.question2 as q2\n",
    "import time\n",
    "\n",
    "TIME_LIMIT = 3\n",
    "\n",
    "tests = q2.get_all_tests(prefix='q2_')\n",
    "tests_passed = 0\n",
    "for test in tests:\n",
    "    n, m, m_next_lines, e, next_e_lines = q2.scan_test_input(test)\n",
    "    \n",
    "    variables = initialize_nodes(n, m, m_next_lines)\n",
    "    edges = initialize_edges(e, next_e_lines)\n",
    "    variable_neighbors = initialize_variable_neighbors(n, next_e_lines)\n",
    "    # print(f\"vars {variables}\")\n",
    "    # print(f\"edges {edges}\")\n",
    "    # print(f\"edges_neighbors {variable_neighbors}\")\n",
    "    # ac_3(variables, edges)\n",
    "    # print(backtracking_search(variables, edges, variable_neighbors))\n",
    "\n",
    "    start_time = time.time()\n",
    "    result = backtracking_search(variables, edges, variable_neighbors)\n",
    "    total_time = time.time() - start_time\n",
    "    if q2.is_result_valid(test, result) and total_time < TIME_LIMIT:\n",
    "        tests_passed += 1\n",
    "    else:\n",
    "        print(f'test {test} failed. time elapsed= {total_time}')\n",
    "print(f'Score = {tests_passed / len(tests) * 100}%')"
   ]
  },
  {
   "cell_type": "markdown",
   "metadata": {},
   "source": [
    "# Q3 (30+5 Points)"
   ]
  },
  {
   "cell_type": "markdown",
   "metadata": {},
   "source": [
    "<font size=4>\n",
    "Author: Matina mehdizadeh\n",
    "\t\t\t<br/>\n",
    "                <font color=red>\n",
    "Please run all the cells.\n",
    "     </font>\n",
    "</font>\n",
    "                <br/>\n",
    "    </div>"
   ]
  },
  {
   "cell_type": "code",
   "execution_count": null,
   "metadata": {
    "collectable": true
   },
   "outputs": [],
   "source": []
  },
  {
   "cell_type": "markdown",
   "metadata": {},
   "source": [
    "Consider the given 8*8 board game. There are two players in this game and they try to block each other and limit their valid moves by making walls. Their moves are limited to the 8 cells (or less when they are around the edges) beside them and the walls will start to appear only when a player steps into a random generated yellow cell and the wall will continue to be built until the player reaches the next yellow cell. The players start the game at (0,0) and (7,7) and they keep playing untill one of them loses. There are multiple ways for a player to win the match:\n",
    "- If a player steps into a wall or out of the board, the player loses the match and \"invalid move\" massege will appear on terminal.\n",
    "- If the players reach the maximum moves the game finishes and the winner would be chosen based on the maximum valid move they have left plus the number of walls they have made and \"No more moves\" massege will appear on terminal.\n",
    "- If the getMove() function does not return any value after 2 seconds, the player loses the match and \"Time limit exceeded\" massege will appear on terminal.\n",
    "<img src=\"Images/Q3.png\" style=\"float: center; margin-left: 250px; margin-top: 50px; width:500px;height:400px;\"/>"
   ]
  },
  {
   "cell_type": "markdown",
   "metadata": {},
   "source": [
    "In this question, the codes for starting the game were provided for you in Helper-codes folder. You are expected to implement the MinimaxPlayer class (which inherit the Player class) with alpha-beta pruning. (25 points)"
   ]
  },
  {
   "cell_type": "markdown",
   "metadata": {},
   "source": [
    "## Libraries"
   ]
  },
  {
   "cell_type": "code",
   "execution_count": 1,
   "metadata": {
    "execution": {
     "iopub.execute_input": "2021-10-01T16:01:11.557956Z",
     "iopub.status.busy": "2021-10-01T16:01:11.556447Z",
     "iopub.status.idle": "2021-10-01T16:01:11.747409Z",
     "shell.execute_reply": "2021-10-01T16:01:11.746914Z"
    }
   },
   "outputs": [
    {
     "name": "stdout",
     "output_type": "stream",
     "text": [
      "Requirement already satisfied: tk in /Library/Frameworks/Python.framework/Versions/3.9/lib/python3.9/site-packages (0.1.0)\n",
      "\u001b[33mWARNING: You are using pip version 21.3; however, version 21.3.1 is available.\n",
      "You should consider upgrading via the '/Library/Frameworks/Python.framework/Versions/3.9/bin/python3 -m pip install --upgrade pip' command.\u001b[0m\n",
      "Requirement already satisfied: matplotlib in /Library/Frameworks/Python.framework/Versions/3.9/lib/python3.9/site-packages (3.4.3)\n",
      "Requirement already satisfied: cycler>=0.10 in /Library/Frameworks/Python.framework/Versions/3.9/lib/python3.9/site-packages (from matplotlib) (0.10.0)\n",
      "Requirement already satisfied: python-dateutil>=2.7 in /Library/Frameworks/Python.framework/Versions/3.9/lib/python3.9/site-packages (from matplotlib) (2.8.2)\n",
      "Requirement already satisfied: kiwisolver>=1.0.1 in /Library/Frameworks/Python.framework/Versions/3.9/lib/python3.9/site-packages (from matplotlib) (1.3.2)\n",
      "Requirement already satisfied: pyparsing>=2.2.1 in /Library/Frameworks/Python.framework/Versions/3.9/lib/python3.9/site-packages (from matplotlib) (2.4.7)\n",
      "Requirement already satisfied: pillow>=6.2.0 in /Library/Frameworks/Python.framework/Versions/3.9/lib/python3.9/site-packages (from matplotlib) (8.4.0)\n",
      "Requirement already satisfied: numpy>=1.16 in /Library/Frameworks/Python.framework/Versions/3.9/lib/python3.9/site-packages (from matplotlib) (1.21.3)\n",
      "Requirement already satisfied: six in /Users/mhd/Library/Python/3.9/lib/python/site-packages (from cycler>=0.10->matplotlib) (1.16.0)\n",
      "\u001b[33mWARNING: You are using pip version 21.3; however, version 21.3.1 is available.\n",
      "You should consider upgrading via the '/Library/Frameworks/Python.framework/Versions/3.9/bin/python3 -m pip install --upgrade pip' command.\u001b[0m\n"
     ]
    }
   ],
   "source": [
    "!pip install tk\n",
    "!pip install matplotlib\n",
    "import numpy as np\n",
    "import random\n",
    "from Helper_codes.graphics import *\n",
    "from Helper_codes.question3 import Cell\n",
    "from Helper_codes.question3 import IntPair\n",
    "from Helper_codes.question3 import Player\n",
    "from Helper_codes.question3 import NaivePlayer\n",
    "from Helper_codes.question3 import Board\n",
    "from Helper_codes.question3 import Game\n",
    "import time\n",
    "from matplotlib import pyplot as plt"
   ]
  },
  {
   "cell_type": "markdown",
   "metadata": {},
   "source": [
    "**The following implementations are suggestional and you may change them if you desire.\n",
    "The move_ functions' purpose is to find out if a player, has a valid move on that direction.\n",
    "the purpose of checkRow and CheckCole are to check if the player's x and y is still in the board.**\n"
   ]
  },
  {
   "cell_type": "code",
   "execution_count": 2,
   "metadata": {
    "collectable": true
   },
   "outputs": [],
   "source": [
    "\n",
    "class MinimaxPlayer(Player):\n",
    "    \n",
    "    def __init__(self, col, x, y, depth):\n",
    "        super().__init__(col, x, y)\n",
    "        self.depth = depth\n",
    "\n",
    "    def checkCol(self, x, board):\n",
    "        \n",
    "        if x > board.getSize() - 1 or x < 0:\n",
    "            return False\n",
    "        return True\n",
    "\n",
    "    def checkRow(self, y, board):\n",
    "        \n",
    "        if y > board.getSize() - 1 or y < 0:\n",
    "            return False\n",
    "        return True\n",
    "\n",
    "    def moveU(self, x, y, board):\n",
    "        \n",
    "        return self.checkRow(y+1, board)\n",
    "    \n",
    "\n",
    "    def moveD(self, x, y, board):\n",
    "        \n",
    "        return self.checkRow(y-1, board)\n",
    "\n",
    "    def moveR(self, x, y, board):\n",
    "        \n",
    "        return self.checkCol(x+1, board)\n",
    "    \n",
    "    def moveL(self, x, y, board):\n",
    "        \n",
    "        return self.checkCol(x-1, board)\n",
    "\n",
    "    def moveUR(self, x, y, board):\n",
    "        \n",
    "        return self.checkCol(x+1, board) and self.checkRow(y+1, board)\n",
    "    \n",
    "    def moveUL(self, x, y, board):\n",
    "        \n",
    "        return self.checkCol(x-1, board) and self.checkRow(y+1, board)\n",
    "\n",
    "    def moveDR(self, x, y, board):\n",
    "        \n",
    "        return self.checkCol(x+1, board) and self.checkRow(y-1, board)\n",
    "\n",
    "    def moveDL(self, x, y, board):\n",
    "        \n",
    "        return self.checkCol(x-1, board) and self.checkRow(y-1, board)\n",
    "\n",
    "    def canMove(self, x, y, board):\n",
    "        \n",
    "        start_time = time.time()\n",
    "        while True:\n",
    "            if time.time() - start_time > 2:\n",
    "                return False\n",
    "            if self.moveU(x, y, board) or \\\n",
    "             self.moveD(x, y, board) or \\\n",
    "             self.moveR(x, y, board) or \\\n",
    "             self.moveL(x, y, board) or \\\n",
    "             self.moveUR(x, y, board) or \\\n",
    "             self.moveUL(x, y, board) or \\\n",
    "             self.moveDR(x, y, board) or \\\n",
    "             self.moveDL(x, y, board):\n",
    "                return True\n",
    "    def generate_child(self, board, player_col, x, y):\n",
    "        child_board = Board(board)\n",
    "        if child_board.move(IntPair(x, y), player_col) == 0:\n",
    "            return True, child_board\n",
    "        return False, None\n",
    "    \n",
    "    def generate_children(self, board, player_col):\n",
    "        x = board.getPlayerX(player_col)\n",
    "        y = board.getPlayerY(player_col)\n",
    "        result = []\n",
    "        childU = self.generate_child(board, player_col, x, y+1)\n",
    "        if childU[0]:\n",
    "            result.append(childU[1])\n",
    "        childUR = self.generate_child(board, player_col, x+1, y+1)\n",
    "        if childUR[0]:\n",
    "            result.append(childUR[1])\n",
    "        childR = self.generate_child(board, player_col, x+1, y)\n",
    "        if childR[0]:\n",
    "            result.append(childR[1])\n",
    "        childRD = self.generate_child(board, player_col, x+1, y-1)\n",
    "        if childRD[0]:\n",
    "            result.append(childRD[1])\n",
    "        childD = self.generate_child(board, player_col, x, y-1)\n",
    "        if childD[0]:\n",
    "            result.append(childD[1])\n",
    "        childDL = self.generate_child(board, player_col, x-1, y-1)\n",
    "        if childDL[0]:\n",
    "            result.append(childDL[1])\n",
    "        childL = self.generate_child(board, player_col, x-1, y)\n",
    "        if childL[0]:\n",
    "            result.append(childL[1])\n",
    "        childLU = self.generate_child(board, player_col, x-1, y+1)\n",
    "        if childLU[0]:\n",
    "            result.append(childLU[1])\n",
    "        return result\n",
    "        \n",
    "    def minValue(self, board, alpha, beta, depth):\n",
    "        \n",
    "        v = float('inf')\n",
    "        new_board = board\n",
    "        children = self.generate_children(board, 2)\n",
    "        if depth == 0 or len(children) == 0:\n",
    "            return board.getScore(1), new_board\n",
    "        for child in children:\n",
    "            eval, child_board = self.maxValue(child, alpha, beta, depth - 1)\n",
    "\n",
    "            if eval < v:\n",
    "                new_board = child\n",
    "\n",
    "            v = min(v, eval)\n",
    "            beta = min(beta, eval)\n",
    "            if beta <= alpha:\n",
    "                break\n",
    "        return v, new_board    \n",
    "    \n",
    "    def maxValue(self, board, alpha, beta, depth):\n",
    "        \n",
    "        v = float('-inf')\n",
    "        new_board = board\n",
    "        children = self.generate_children(board, 1)\n",
    "        if depth == 0 or len(children) == 0:\n",
    "            return board.getScore(1), new_board\n",
    "        for child in children:\n",
    "            eval, child_board = self.minValue(child, alpha, beta, depth - 1)\n",
    "\n",
    "            if eval > v:\n",
    "                new_board = child\n",
    "\n",
    "            v = max(v, eval)\n",
    "            alpha = max(alpha, eval)\n",
    "            if beta <= alpha:\n",
    "                break\n",
    "        return v, new_board\n",
    "    \n",
    "    def getMove(self, board):\n",
    "        \n",
    "        alpha = float('-inf')\n",
    "        beta = float('inf')\n",
    "        next = IntPair(-20, -20)\n",
    "\n",
    "        if (board.getNumberOfMoves() == board.maxNumberOfMoves):\n",
    "            return IntPair(-20, -20)\n",
    "        \n",
    "        if not (self.canMove(board.getPlayerX(self.getCol()), board.getPlayerY(self.getCol()), board)):\n",
    "            return IntPair(-10, -10)\n",
    "        \n",
    "        if (self.getCol() == 1):\n",
    "            \n",
    "            result = self.maxValue(board, alpha, beta, self.depth)\n",
    "            x_next = result[1].getPlayerX(1)\n",
    "            y_next = result[1].getPlayerY(1)\n",
    "            \n",
    "            return IntPair(x_next, y_next)\n",
    "\n",
    "        else:\n",
    "            \n",
    "            result = self.maxValue(board, alpha, beta, self.depth)\n",
    "            x_next = result[1].getPlayerX(2)\n",
    "            y_next = result[1].getPlayerY(2)\n",
    "            return IntPair(x_next, y_next)"
   ]
  },
  {
   "cell_type": "markdown",
   "metadata": {},
   "source": [
    "If you run the game once (numberOfMatches = 1) the game window will open and you would be able to observe the players behaviour and the reason why the winner has won, will appear on terminal.\n",
    "If you run the game for more than one match (numberOfMatches > 1) the graphic window and the comments on terminal would not show up. This is for the time you finish implementing the MinimaxPlayer class and you want to verify the functionality of your code; also, for next part of the question, in which you should plot the scores for the first player."
   ]
  },
  {
   "cell_type": "code",
   "execution_count": 4,
   "metadata": {
    "collectable": true
   },
   "outputs": [
    {
     "name": "stdout",
     "output_type": "stream",
     "text": [
      "Player 2 has exceeded the time limit\n",
      "Player 1 has won\n",
      "\n",
      "1.0\n"
     ]
    }
   ],
   "source": [
    "p1 = MinimaxPlayer(1, 0, 0, 4)\n",
    "p2 = NaivePlayer(2, 7, 7)\n",
    "g = Game(p1, p2)\n",
    "numberOfMatches = 1\n",
    "score1, score2 = g.start(numberOfMatches)\n",
    "print(score1/numberOfMatches)"
   ]
  },
  {
   "cell_type": "markdown",
   "metadata": {},
   "source": [
    "In this section, you need to run the game code multiple times and each time with the same numberOfMatches (this should be a large number so your answer be more reliable) once for Naive player and once for Minimax. compare these two plots in terms of shape and the main elements of the distribution. (5 points)"
   ]
  },
  {
   "cell_type": "code",
   "execution_count": 13,
   "metadata": {
    "collectable": true
   },
   "outputs": [
    {
     "data": {
      "image/png": "[encoded data removed]",
      "text/plain": [
       "<Figure size 432x288 with 1 Axes>"
      ]
     },
     "metadata": {
      "needs_background": "light"
     },
     "output_type": "display_data"
    }
   ],
   "source": [
    "density = []\n",
    "for i in range(4):\n",
    "    p1 = MinimaxPlayer(1, 0, 0, 4)\n",
    "    p2 = NaivePlayer(2, 7, 7)\n",
    "    g = Game(p1, p2)\n",
    "    numberOfMatches = 4\n",
    "    score1, score2 = g.start(numberOfMatches)\n",
    "    density.append(score1/numberOfMatches)\n",
    "\n",
    "plt.plot(density)\n",
    "plt.xlabel(\"# round\")\n",
    "plt.ylabel(\"density win player 1\")\n",
    "plt.show()\n",
    "\n",
    "##Explanations:\n",
    "# The following graph shows in overall 4 trys, Minimax Player almost always has a better winning percentage\n",
    "# than the Naive Player. \n",
    "# In the first round, Minimax Player wins 50% of the matches, but in the next rounds,\n",
    "# Minimax Player beats the Naive player 100% of the times.\n",
    "\n",
    "### Note that it took 40 minutes to run this test. Therefore I couldn't afford to try bigger numbers ###"
   ]
  },
  {
   "cell_type": "code",
   "execution_count": 14,
   "metadata": {
    "collectable": true
   },
   "outputs": [
    {
     "data": {
      "image/png": "[encoded data removed]",
      "text/plain": [
       "<Figure size 432x288 with 1 Axes>"
      ]
     },
     "metadata": {
      "needs_background": "light"
     },
     "output_type": "display_data"
    }
   ],
   "source": [
    "density = []\n",
    "for i in range(3):\n",
    "    p1 = MinimaxPlayer(1, 0, 0, 3)\n",
    "    p2 = MinimaxPlayer(2, 7, 7, 3)\n",
    "    g = Game(p1, p2)\n",
    "    numberOfMatches = 3\n",
    "    score1, score2 = g.start(numberOfMatches)\n",
    "    density.append(score1/numberOfMatches)\n",
    "\n",
    "plt.plot(density)\n",
    "plt.xlabel(\"# round\")\n",
    "plt.ylabel(\"density win player 1\")\n",
    "plt.show()\n",
    "\n",
    "##Explanations:\n",
    "# Since we got an element of luck in this problem, we can expect results like this.\n",
    "# This graph shows that although both players are Minimax, but player 1 wins all the matches in all the rounds.\n",
    "\n",
    "### Note that it took 15 minutes to run this test. Therefore I couldn't afford to try bigger numbers ###"
   ]
  },
  {
   "cell_type": "markdown",
   "metadata": {},
   "source": [
    "In this section you should change the game settings for different depths and plot the number of wins in fix number of matches for these depths. Also, you should let two minimax players with diffrent depths play againts eachother and report your observation.(5 points)"
   ]
  },
  {
   "cell_type": "code",
   "execution_count": 18,
   "metadata": {
    "collectable": true
   },
   "outputs": [
    {
     "data": {
      "image/png": "[encoded data removed]",
      "text/plain": [
       "<Figure size 432x288 with 1 Axes>"
      ]
     },
     "metadata": {
      "needs_background": "light"
     },
     "output_type": "display_data"
    }
   ],
   "source": [
    "density = []\n",
    "for i in range(5):\n",
    "    p1 = MinimaxPlayer(1, 0, 0, i)\n",
    "    p2 = NaivePlayer(2, 7, 7)\n",
    "    g = Game(p1, p2)\n",
    "    numberOfMatches = 4\n",
    "    score1, score2 = g.start(numberOfMatches)\n",
    "    density.append(score1)\n",
    "\n",
    "plt.plot(density)\n",
    "plt.xlabel(\"depth\")\n",
    "plt.ylabel(\"#win for player 1\")\n",
    "plt.show()\n",
    "\n",
    "##Explanations:\n",
    "# The following garph shows as we go deeper into our search, the number of games that we win also increases.\n",
    "# That is beacause of a concept that was though in the classroom as \"Depth Matters!\"\n",
    "# As we go deeper, the estimated heuristic can be much better, so we can make better descisions.\n"
   ]
  },
  {
   "cell_type": "code",
   "execution_count": 3,
   "metadata": {
    "collectable": true
   },
   "outputs": [
    {
     "data": {
      "image/png": "[encoded data removed]",
      "text/plain": [
       "<Figure size 432x288 with 1 Axes>"
      ]
     },
     "metadata": {
      "needs_background": "light"
     },
     "output_type": "display_data"
    }
   ],
   "source": [
    "density = []\n",
    "for i in range(4):\n",
    "    p1 = MinimaxPlayer(1, 0, 0, i)\n",
    "    p2 = MinimaxPlayer(2, 7, 7, 3 - i)\n",
    "    g = Game(p1, p2)\n",
    "    numberOfMatches = 3\n",
    "    score1, score2 = g.start(numberOfMatches)\n",
    "    density.append(score1)\n",
    "\n",
    "plt.plot(density)\n",
    "plt.xlabel(\"depth\")\n",
    "plt.ylabel(\"#win for player 1\")\n",
    "plt.show()\n",
    "\n",
    "##Explanations:\n",
    "# The following graph shows that since both players are Minimax, the depth matters so much in the result.\n",
    "# As the depth of Player one is 0 and 1, the depth of Player two is 3 and 2, and in these two cases, Player two\n",
    "# wins more games. But as the depth of Player one grows, its number of wins grow too."
   ]
  }
 ],
 "metadata": {
  "interpreter": {
   "hash": "f336af7d54ba0f0c1daaf2256eb85f31e983e88153daf7a27ef3ea6c724faba4"
  },
  "kernelspec": {
   "display_name": "Python 3 (ipykernel)",
   "language": "python",
   "name": "python3"
  },
  "language_info": {
   "codemirror_mode": {
    "name": "ipython",
    "version": 3
   },
   "file_extension": ".py",
   "mimetype": "text/x-python",
   "name": "python",
   "nbconvert_exporter": "python",
   "pygments_lexer": "ipython3",
   "version": "3.9.2"
  }
 },
 "nbformat": 4,
 "nbformat_minor": 4
}
